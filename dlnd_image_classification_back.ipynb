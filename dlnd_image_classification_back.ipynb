{
 "cells": [
  {
   "cell_type": "markdown",
   "metadata": {
    "collapsed": true,
    "deletable": true,
    "editable": true
   },
   "source": [
    "# Image Classification\n",
    "In this project, you'll classify images from the [CIFAR-10 dataset](https://www.cs.toronto.edu/~kriz/cifar.html).  The dataset consists of airplanes, dogs, cats, and other objects. You'll preprocess the images, then train a convolutional neural network on all the samples. The images need to be normalized and the labels need to be one-hot encoded.  You'll get to apply what you learned and build a convolutional, max pooling, dropout, and fully connected layers.  At the end, you'll get to see your neural network's predictions on the sample images.\n",
    "## Get the Data\n",
    "Run the following cell to download the [CIFAR-10 dataset for python](https://www.cs.toronto.edu/~kriz/cifar-10-python.tar.gz)."
   ]
  },
  {
   "cell_type": "code",
   "execution_count": 14,
   "metadata": {
    "collapsed": false,
    "deletable": true,
    "editable": true
   },
   "outputs": [
    {
     "name": "stdout",
     "output_type": "stream",
     "text": [
      "All files found!\n"
     ]
    }
   ],
   "source": [
    "\"\"\"\n",
    "DON'T MODIFY ANYTHING IN THIS CELL THAT IS BELOW THIS LINE\n",
    "\"\"\"\n",
    "from urllib.request import urlretrieve\n",
    "from os.path import isfile, isdir\n",
    "from tqdm import tqdm\n",
    "import problem_unittests as tests\n",
    "import tarfile\n",
    "\n",
    "cifar10_dataset_folder_path = 'cifar-10-batches-py'\n",
    "\n",
    "class DLProgress(tqdm):\n",
    "    last_block = 0\n",
    "\n",
    "    def hook(self, block_num=1, block_size=1, total_size=None):\n",
    "        self.total = total_size\n",
    "        self.update((block_num - self.last_block) * block_size)\n",
    "        self.last_block = block_num\n",
    "\n",
    "if not isfile('cifar-10-python.tar.gz'):\n",
    "    with DLProgress(unit='B', unit_scale=True, miniters=1, desc='CIFAR-10 Dataset') as pbar:\n",
    "        urlretrieve(\n",
    "            'https://www.cs.toronto.edu/~kriz/cifar-10-python.tar.gz',\n",
    "            'cifar-10-python.tar.gz',\n",
    "            pbar.hook)\n",
    "\n",
    "if not isdir(cifar10_dataset_folder_path):\n",
    "    with tarfile.open('cifar-10-python.tar.gz') as tar:\n",
    "        tar.extractall()\n",
    "        tar.close()\n",
    "\n",
    "\n",
    "tests.test_folder_path(cifar10_dataset_folder_path)"
   ]
  },
  {
   "cell_type": "markdown",
   "metadata": {
    "deletable": true,
    "editable": true
   },
   "source": [
    "## Explore the Data\n",
    "The dataset is broken into batches to prevent your machine from running out of memory.  The CIFAR-10 dataset consists of 5 batches, named `data_batch_1`, `data_batch_2`, etc.. Each batch contains the labels and images that are one of the following:\n",
    "* airplane\n",
    "* automobile\n",
    "* bird\n",
    "* cat\n",
    "* deer\n",
    "* dog\n",
    "* frog\n",
    "* horse\n",
    "* ship\n",
    "* truck\n",
    "\n",
    "Understanding a dataset is part of making predictions on the data.  Play around with the code cell below by changing the `batch_id` and `sample_id`. The `batch_id` is the id for a batch (1-5). The `sample_id` is the id for a image and label pair in the batch.\n",
    "\n",
    "Ask yourself \"What are all possible labels?\", \"What is the range of values for the image data?\", \"Are the labels in order or random?\".  Answers to questions like these will help you preprocess the data and end up with better predictions."
   ]
  },
  {
   "cell_type": "code",
   "execution_count": 26,
   "metadata": {
    "collapsed": false,
    "deletable": true,
    "editable": true
   },
   "outputs": [
    {
     "name": "stdout",
     "output_type": "stream",
     "text": [
      "\n",
      "Stats of batch 1:\n",
      "Samples: 10000\n",
      "Label Counts: {0: 1005, 1: 974, 2: 1032, 3: 1016, 4: 999, 5: 937, 6: 1030, 7: 1001, 8: 1025, 9: 981}\n",
      "First 20 Labels: [6, 9, 9, 4, 1, 1, 2, 7, 8, 3, 4, 7, 7, 2, 9, 9, 9, 3, 2, 6]\n",
      "\n",
      "Example of Image 12:\n",
      "Image - Min Value: 2 Max Value: 251\n",
      "Image - Shape: (32, 32, 3)\n",
      "Label - Label Id: 7 Name: horse\n"
     ]
    },
    {
     "data": {
      "image/png": "[encoded data removed]",
      "text/plain": [
       "<matplotlib.figure.Figure at 0x7ff236e41d30>"
      ]
     },
     "metadata": {
      "image/png": {
       "height": 250,
       "width": 253
      }
     },
     "output_type": "display_data"
    }
   ],
   "source": [
    "%matplotlib inline\n",
    "%config InlineBackend.figure_format = 'retina'\n",
    "\n",
    "import helper\n",
    "import numpy as np\n",
    "\n",
    "# Explore the dataset\n",
    "batch_id = 1\n",
    "sample_id = 12\n",
    "helper.display_stats(cifar10_dataset_folder_path, batch_id, sample_id)"
   ]
  },
  {
   "cell_type": "markdown",
   "metadata": {
    "deletable": true,
    "editable": true
   },
   "source": [
    "## Implement Preprocess Functions\n",
    "### Normalize\n",
    "In the cell below, implement the `normalize` function to take in image data, `x`, and return it as a normalized Numpy array. The values should be in the range of 0 to 1, inclusive.  The return object should be the same shape as `x`."
   ]
  },
  {
   "cell_type": "code",
   "execution_count": 8,
   "metadata": {
    "collapsed": false,
    "deletable": true,
    "editable": true
   },
   "outputs": [
    {
     "name": "stdout",
     "output_type": "stream",
     "text": [
      "Tests Passed\n"
     ]
    }
   ],
   "source": [
    "def normalize(x):\n",
    "    \"\"\"\n",
    "    Normalize a list of sample image data in the range of 0 to 1\n",
    "    : x: List of image data.  The image shape is (32, 32, 3)\n",
    "    : return: Numpy array of normalize data\n",
    "    \"\"\"\n",
    "    # TODO: Implement Function\n",
    "    #print(\"x.shape= \", x.shape)\n",
    "    norm = np.zeros(x.shape, dtype=np.float)\n",
    "    #print(\"norm.shape= \", norm.shape)\n",
    "    num_images = x.shape[0]\n",
    "    #print(\"num images= \", num_images)\n",
    "    for n in range(num_images): # cycle through all images\n",
    "        for h in range(32):\n",
    "            for w in range(32):\n",
    "                for d in range(3):\n",
    "                    norm[n][h][w][d] = x[n][h][w][d] / 255\n",
    "    return norm\n",
    "\n",
    "\n",
    "\"\"\"\n",
    "DON'T MODIFY ANYTHING IN THIS CELL THAT IS BELOW THIS LINE\n",
    "\"\"\"\n",
    "tests.test_normalize(normalize)"
   ]
  },
  {
   "cell_type": "markdown",
   "metadata": {
    "deletable": true,
    "editable": true
   },
   "source": [
    "### One-hot encode\n",
    "Just like the previous code cell, you'll be implementing a function for preprocessing.  This time, you'll implement the `one_hot_encode` function. The input, `x`, are a list of labels.  Implement the function to return the list of labels as One-Hot encoded Numpy array.  The possible values for labels are 0 to 9. The one-hot encoding function should return the same encoding for each value between each call to `one_hot_encode`.  Make sure to save the map of encodings outside the function.\n",
    "\n",
    "Hint: Don't reinvent the wheel."
   ]
  },
  {
   "cell_type": "code",
   "execution_count": 31,
   "metadata": {
    "collapsed": false,
    "deletable": true,
    "editable": true
   },
   "outputs": [
    {
     "name": "stdout",
     "output_type": "stream",
     "text": [
      "Tests Passed\n"
     ]
    }
   ],
   "source": [
    "def one_hot_encode(x):\n",
    "    \"\"\"\n",
    "    One hot encode a list of sample labels. Return a one-hot encoded vector for each label.\n",
    "    : x: List of sample Labels\n",
    "    : return: Numpy array of one-hot encoded labels\n",
    "    \"\"\"\n",
    "    # TODO: Implement Function\n",
    "    #print(x)\n",
    "    num_labels = len(x)\n",
    "    #print(num_labels)\n",
    "    #print(x[:5])\n",
    "    onehot = np.zeros((num_labels, 10), dtype=np.int)\n",
    "    #print(onehot.shape)\n",
    "    for n in range(num_labels):\n",
    "        value = x[n]\n",
    "        onehot[n][value] = 1\n",
    "    #print(onehot[:5])\n",
    "    return onehot\n",
    "\n",
    "\n",
    "\"\"\"\n",
    "DON'T MODIFY ANYTHING IN THIS CELL THAT IS BELOW THIS LINE\n",
    "\"\"\"\n",
    "tests.test_one_hot_encode(one_hot_encode)"
   ]
  },
  {
   "cell_type": "markdown",
   "metadata": {
    "deletable": true,
    "editable": true
   },
   "source": [
    "### Randomize Data\n",
    "As you saw from exploring the data above, the order of the samples are randomized.  It doesn't hurt to randomize it again, but you don't need to for this dataset."
   ]
  },
  {
   "cell_type": "markdown",
   "metadata": {
    "deletable": true,
    "editable": true
   },
   "source": [
    "## Preprocess all the data and save it\n",
    "Running the code cell below will preprocess all the CIFAR-10 data and save it to file. The code below also uses 10% of the training data for validation."
   ]
  },
  {
   "cell_type": "code",
   "execution_count": 32,
   "metadata": {
    "collapsed": false,
    "deletable": true,
    "editable": true
   },
   "outputs": [],
   "source": [
    "\"\"\"\n",
    "DON'T MODIFY ANYTHING IN THIS CELL\n",
    "\"\"\"\n",
    "# Preprocess Training, Validation, and Testing Data\n",
    "helper.preprocess_and_save_data(cifar10_dataset_folder_path, normalize, one_hot_encode)"
   ]
  },
  {
   "cell_type": "markdown",
   "metadata": {
    "deletable": true,
    "editable": true
   },
   "source": [
    "# Check Point\n",
    "This is your first checkpoint.  If you ever decide to come back to this notebook or have to restart the notebook, you can start from here.  The preprocessed data has been saved to disk."
   ]
  },
  {
   "cell_type": "code",
   "execution_count": 1,
   "metadata": {
    "collapsed": true,
    "deletable": true,
    "editable": true
   },
   "outputs": [],
   "source": [
    "\"\"\"\n",
    "DON'T MODIFY ANYTHING IN THIS CELL\n",
    "\"\"\"\n",
    "import pickle\n",
    "import problem_unittests as tests\n",
    "import helper\n",
    "\n",
    "# Load the Preprocessed Validation data\n",
    "valid_features, valid_labels = pickle.load(open('preprocess_validation.p', mode='rb'))"
   ]
  },
  {
   "cell_type": "markdown",
   "metadata": {
    "deletable": true,
    "editable": true
   },
   "source": [
    "## Build the network\n",
    "For the neural network, you'll build each layer into a function.  Most of the code you've seen has been outside of functions. To test your code more thoroughly, we require that you put each layer in a function.  This allows us to give you better feedback and test for simple mistakes using our unittests before you submit your project.\n",
    "\n",
    ">**Note:** If you're finding it hard to dedicate enough time for this course each week, we've provided a small shortcut to this part of the project. In the next couple of problems, you'll have the option to use classes from the [TensorFlow Layers](https://www.tensorflow.org/api_docs/python/tf/layers) or [TensorFlow Layers (contrib)](https://www.tensorflow.org/api_guides/python/contrib.layers) packages to build each layer, except the layers you build in the \"Convolutional and Max Pooling Layer\" section.  TF Layers is similar to Keras's and TFLearn's abstraction to layers, so it's easy to pickup.\n",
    "\n",
    ">However, if you would like to get the most out of this course, try to solve all the problems _without_ using anything from the TF Layers packages. You **can** still use classes from other packages that happen to have the same name as ones you find in TF Layers! For example, instead of using the TF Layers version of the `conv2d` class, [tf.layers.conv2d](https://www.tensorflow.org/api_docs/python/tf/layers/conv2d), you would want to use the TF Neural Network version of `conv2d`, [tf.nn.conv2d](https://www.tensorflow.org/api_docs/python/tf/nn/conv2d). \n",
    "\n",
    "Let's begin!\n",
    "\n",
    "### Input\n",
    "The neural network needs to read the image data, one-hot encoded labels, and dropout keep probability. Implement the following functions\n",
    "* Implement `neural_net_image_input`\n",
    " * Return a [TF Placeholder](https://www.tensorflow.org/api_docs/python/tf/placeholder)\n",
    " * Set the shape using `image_shape` with batch size set to `None`.\n",
    " * Name the TensorFlow placeholder \"x\" using the TensorFlow `name` parameter in the [TF Placeholder](https://www.tensorflow.org/api_docs/python/tf/placeholder).\n",
    "* Implement `neural_net_label_input`\n",
    " * Return a [TF Placeholder](https://www.tensorflow.org/api_docs/python/tf/placeholder)\n",
    " * Set the shape using `n_classes` with batch size set to `None`.\n",
    " * Name the TensorFlow placeholder \"y\" using the TensorFlow `name` parameter in the [TF Placeholder](https://www.tensorflow.org/api_docs/python/tf/placeholder).\n",
    "* Implement `neural_net_keep_prob_input`\n",
    " * Return a [TF Placeholder](https://www.tensorflow.org/api_docs/python/tf/placeholder) for dropout keep probability.\n",
    " * Name the TensorFlow placeholder \"keep_prob\" using the TensorFlow `name` parameter in the [TF Placeholder](https://www.tensorflow.org/api_docs/python/tf/placeholder).\n",
    "\n",
    "These names will be used at the end of the project to load your saved model.\n",
    "\n",
    "Note: `None` for shapes in TensorFlow allow for a dynamic size."
   ]
  },
  {
   "cell_type": "code",
   "execution_count": 2,
   "metadata": {
    "collapsed": false,
    "deletable": true,
    "editable": true
   },
   "outputs": [
    {
     "name": "stdout",
     "output_type": "stream",
     "text": [
      "Image Input Tests Passed.\n",
      "Label Input Tests Passed.\n",
      "Keep Prob Tests Passed.\n"
     ]
    }
   ],
   "source": [
    "import tensorflow as tf\n",
    "\n",
    "def neural_net_image_input(image_shape):\n",
    "    \"\"\"\n",
    "    Return a Tensor for a bach of image input\n",
    "    : image_shape: Shape of the images\n",
    "    : return: Tensor for image input.\n",
    "    \"\"\"\n",
    "    # TODO: Implement Function\n",
    "    #print(image_shape)\n",
    "    #print(image_shape[0])\n",
    "    #print(image_shape[1])\n",
    "    #print(image_shape[2])\n",
    "    return tf.placeholder(tf.float32, [None, image_shape[0], image_shape[1], image_shape[2]], name='x')\n",
    "\n",
    "\n",
    "def neural_net_label_input(n_classes):\n",
    "    \"\"\"\n",
    "    Return a Tensor for a batch of label input\n",
    "    : n_classes: Number of classes\n",
    "    : return: Tensor for label input.\n",
    "    \"\"\"\n",
    "    # TODO: Implement Function\n",
    "    return tf.placeholder(tf.float32, [None, n_classes], name='y')\n",
    "\n",
    "\n",
    "def neural_net_keep_prob_input():\n",
    "    \"\"\"\n",
    "    Return a Tensor for keep probability\n",
    "    : return: Tensor for keep probability.\n",
    "    \"\"\"\n",
    "    # TODO: Implement Function\n",
    "    return tf.placeholder(tf.float32, name='keep_prob')\n",
    "\n",
    "\n",
    "\"\"\"\n",
    "DON'T MODIFY ANYTHING IN THIS CELL THAT IS BELOW THIS LINE\n",
    "\"\"\"\n",
    "tf.reset_default_graph()\n",
    "tests.test_nn_image_inputs(neural_net_image_input)\n",
    "tests.test_nn_label_inputs(neural_net_label_input)\n",
    "tests.test_nn_keep_prob_inputs(neural_net_keep_prob_input)"
   ]
  },
  {
   "cell_type": "markdown",
   "metadata": {
    "deletable": true,
    "editable": true
   },
   "source": [
    "### Convolution and Max Pooling Layer\n",
    "Convolution layers have a lot of success with images. For this code cell, you should implement the function `conv2d_maxpool` to apply convolution then max pooling:\n",
    "* Create the weight and bias using `conv_ksize`, `conv_num_outputs` and the shape of `x_tensor`.\n",
    "* Apply a convolution to `x_tensor` using weight and `conv_strides`.\n",
    " * We recommend you use same padding, but you're welcome to use any padding.\n",
    "* Add bias\n",
    "* Add a nonlinear activation to the convolution.\n",
    "* Apply Max Pooling using `pool_ksize` and `pool_strides`.\n",
    " * We recommend you use same padding, but you're welcome to use any padding.\n",
    "\n",
    "**Note:** You **can't** use [TensorFlow Layers](https://www.tensorflow.org/api_docs/python/tf/layers) or [TensorFlow Layers (contrib)](https://www.tensorflow.org/api_guides/python/contrib.layers) for **this** layer, but you can still use TensorFlow's [Neural Network](https://www.tensorflow.org/api_docs/python/tf/nn) package. You may still use the shortcut option for all the **other** layers."
   ]
  },
  {
   "cell_type": "code",
   "execution_count": 3,
   "metadata": {
    "collapsed": false,
    "deletable": true,
    "editable": true
   },
   "outputs": [
    {
     "name": "stdout",
     "output_type": "stream",
     "text": [
      "Tests Passed\n"
     ]
    }
   ],
   "source": [
    "def conv2d_maxpool(x_tensor, conv_num_outputs, conv_ksize, conv_strides, pool_ksize, pool_strides):\n",
    "    \"\"\"\n",
    "    Apply convolution then max pooling to x_tensor\n",
    "    :param x_tensor: TensorFlow Tensor\n",
    "    :param conv_num_outputs: Number of outputs for the convolutional layer\n",
    "    :param conv_ksize: kernal size 2-D Tuple for the convolutional layer\n",
    "    :param conv_strides: Stride 2-D Tuple for convolution\n",
    "    :param pool_ksize: kernal size 2-D Tuple for pool\n",
    "    :param pool_strides: Stride 2-D Tuple for pool\n",
    "    : return: A tensor that represents convolution and max pooling of x_tensor\n",
    "    \"\"\"\n",
    "    # TODO: Implement Function\n",
    "    # Create the weight and bias using conv_ksize, conv_num_outputs and the shape of x_tensor.\n",
    "    #print(x_tensor.shape) # (?, 32, 32, 5) = (?, height, width, depth)\n",
    "    #print(x_tensor.get_shape().as_list()) # [None, 32, 32, 5]\n",
    "    #print(x_tensor) # Tensor(\"Placeholder_7:0\", shape=(?, 32, 32, 5), dtype=float32)\n",
    "    input_depth = int(x_tensor.get_shape().as_list()[3]) # dimension class objects need to be cast to int\n",
    "    #print(\"input_depth= \", input_depth) # 5\n",
    "    #print(conv_ksize) # (2, 2)\n",
    "    filter_height = int(conv_ksize[0]) # dimension class objects need to be cast to int\n",
    "    filter_width = int(conv_ksize[1]) # dimension class objects need to be cast to int\n",
    "    #print(\"filter_height= \", filter_height) # 2\n",
    "    #print(\"filter_width= \", filter_width) # 2\n",
    "    #print(\"conv_num_output= \", conv_num_outputs) # 10\n",
    "    weights = tf.Variable(tf.truncated_normal([filter_height, filter_width, input_depth, conv_num_outputs], stddev=0.1))\n",
    "    bias = tf.Variable(tf.zeros(conv_num_outputs))\n",
    "    \n",
    "    # Apply a convolution to x_tensor using weight and conv_strides.\n",
    "    #    We recommend you use same padding, but you're welcome to use any padding.\n",
    "    #print(conv_strides) # (4, 4)\n",
    "    x = tf.nn.conv2d(x_tensor, weights, strides=[1, conv_strides[0], conv_strides[1], 1], padding='SAME')\n",
    "    # Add bias\n",
    "    x = tf.nn.bias_add(x, bias)\n",
    "    # Add a nonlinear activation to the convolution.\n",
    "    x = tf.nn.relu(x)\n",
    "    \n",
    "    # Apply Max Pooling using pool_ksize and pool_strides.\n",
    "    #    We recommend you use same padding, but you're welcome to use any padding.\n",
    "    #print(\"pool_ksize= \", pool_ksize) # (2, 2)\n",
    "    #print(\"pool_strides= \",pool_strides) # (2, 2)\n",
    "    x = tf.nn.max_pool(x, ksize=[1, pool_ksize[0], pool_ksize[1], 1], \n",
    "                       strides=[1, pool_strides[0], pool_strides[1], 1], padding='SAME')\n",
    "    \n",
    "    return x \n",
    "\n",
    "\n",
    "\"\"\"\n",
    "DON'T MODIFY ANYTHING IN THIS CELL THAT IS BELOW THIS LINE\n",
    "\"\"\"\n",
    "tests.test_con_pool(conv2d_maxpool)"
   ]
  },
  {
   "cell_type": "markdown",
   "metadata": {
    "deletable": true,
    "editable": true
   },
   "source": [
    "### Flatten Layer\n",
    "Implement the `flatten` function to change the dimension of `x_tensor` from a 4-D tensor to a 2-D tensor.  The output should be the shape (*Batch Size*, *Flattened Image Size*). Shortcut option: you can use classes from the [TensorFlow Layers](https://www.tensorflow.org/api_docs/python/tf/layers) or [TensorFlow Layers (contrib)](https://www.tensorflow.org/api_guides/python/contrib.layers) packages for this layer. For more of a challenge, only use other TensorFlow packages."
   ]
  },
  {
   "cell_type": "code",
   "execution_count": 4,
   "metadata": {
    "collapsed": false,
    "deletable": true,
    "editable": true
   },
   "outputs": [
    {
     "name": "stdout",
     "output_type": "stream",
     "text": [
      "Tests Passed\n"
     ]
    }
   ],
   "source": [
    "def flatten(x_tensor):\n",
    "    \"\"\"\n",
    "    Flatten x_tensor to (Batch Size, Flattened Image Size)\n",
    "    : x_tensor: A tensor of size (Batch Size, ...), where ... are the image dimensions.\n",
    "    : return: A tensor of size (Batch Size, Flattened Image Size).\n",
    "    \"\"\"\n",
    "    # TODO: Implement Function\n",
    "    # http://stackoverflow.com/a/37477055/852795\n",
    "    #print(x_tensor) # Tensor(\"Placeholder_4:0\", shape=(?, 10, 30, 6), dtype=float32)\n",
    "    shape = x_tensor.get_shape().as_list()\n",
    "    #print(\"shape= \", shape)\n",
    "    dim = shape[1] * shape[2] * shape[3]\n",
    "    #print(\"dim= \", dim)\n",
    "    return tf.reshape(x_tensor, [-1, dim])\n",
    "\n",
    "\n",
    "\"\"\"\n",
    "DON'T MODIFY ANYTHING IN THIS CELL THAT IS BELOW THIS LINE\n",
    "\"\"\"\n",
    "tests.test_flatten(flatten)"
   ]
  },
  {
   "cell_type": "markdown",
   "metadata": {
    "deletable": true,
    "editable": true
   },
   "source": [
    "### Fully-Connected Layer\n",
    "Implement the `fully_conn` function to apply a fully connected layer to `x_tensor` with the shape (*Batch Size*, *num_outputs*). Shortcut option: you can use classes from the [TensorFlow Layers](https://www.tensorflow.org/api_docs/python/tf/layers) or [TensorFlow Layers (contrib)](https://www.tensorflow.org/api_guides/python/contrib.layers) packages for this layer. For more of a challenge, only use other TensorFlow packages."
   ]
  },
  {
   "cell_type": "code",
   "execution_count": 5,
   "metadata": {
    "collapsed": false,
    "deletable": true,
    "editable": true
   },
   "outputs": [
    {
     "name": "stdout",
     "output_type": "stream",
     "text": [
      "Tests Passed\n"
     ]
    }
   ],
   "source": [
    "def fully_conn(x_tensor, num_outputs):\n",
    "    \"\"\"\n",
    "    Apply a fully connected layer to x_tensor using weight and bias\n",
    "    : x_tensor: A 2-D tensor where the first dimension is batch size.\n",
    "    : num_outputs: The number of output that the new tensor should be.\n",
    "    : return: A 2-D tensor where the second dimension is num_outputs.\n",
    "    \"\"\"\n",
    "    # TODO: Implement Function\n",
    "    #print(x_tensor) # Tensor(\"Placeholder_19:0\", shape=(?, 128), dtype=float32)\n",
    "    num_inputs = int(x_tensor.get_shape().as_list()[1]) # dimension class objects need to be cast to int\n",
    "    #print(num_outputs) # 40\n",
    "    weights = tf.Variable(tf.truncated_normal([num_inputs, num_outputs], stddev=0.1))\n",
    "    biases = tf.Variable(tf.truncated_normal([num_outputs], stddev=0.1))\n",
    "    \n",
    "    fc = tf.reshape(x_tensor, [-1, weights.get_shape().as_list()[0]])\n",
    "    fc = tf.add(tf.matmul(fc, weights), biases)\n",
    "    fc = tf.nn.relu(fc)\n",
    "    #fc = tf.nn.dropout(fc, dropout)\n",
    "    return fc\n",
    "\n",
    "\n",
    "\"\"\"\n",
    "DON'T MODIFY ANYTHING IN THIS CELL THAT IS BELOW THIS LINE\n",
    "\"\"\"\n",
    "tests.test_fully_conn(fully_conn)"
   ]
  },
  {
   "cell_type": "markdown",
   "metadata": {
    "deletable": true,
    "editable": true
   },
   "source": [
    "### Output Layer\n",
    "Implement the `output` function to apply a fully connected layer to `x_tensor` with the shape (*Batch Size*, *num_outputs*). Shortcut option: you can use classes from the [TensorFlow Layers](https://www.tensorflow.org/api_docs/python/tf/layers) or [TensorFlow Layers (contrib)](https://www.tensorflow.org/api_guides/python/contrib.layers) packages for this layer. For more of a challenge, only use other TensorFlow packages.\n",
    "\n",
    "**Note:** Activation, softmax, or cross entropy should **not** be applied to this."
   ]
  },
  {
   "cell_type": "code",
   "execution_count": 6,
   "metadata": {
    "collapsed": false,
    "deletable": true,
    "editable": true
   },
   "outputs": [
    {
     "name": "stdout",
     "output_type": "stream",
     "text": [
      "Tests Passed\n"
     ]
    }
   ],
   "source": [
    "def output(x_tensor, num_outputs):\n",
    "    \"\"\"\n",
    "    Apply a output layer to x_tensor using weight and bias\n",
    "    : x_tensor: A 2-D tensor where the first dimension is batch size.\n",
    "    : num_outputs: The number of output that the new tensor should be.\n",
    "    : return: A 2-D tensor where the second dimension is num_outputs.\n",
    "    \"\"\"\n",
    "    # TODO: Implement Function\n",
    "    #print(x_tensor) # Tensor(\"Placeholder_7:0\", shape=(?, 128), dtype=float32)\n",
    "    num_inputs = int(x_tensor.get_shape().as_list()[1]) # dimension class objects need to be cast to int\n",
    "    #print(num_outputs) # 40    \n",
    "    weights = tf.Variable(tf.truncated_normal([num_inputs, num_outputs], stddev=0.1))\n",
    "    biases = tf.Variable(tf.truncated_normal([num_outputs], stddev=0.1))\n",
    "    \n",
    "    out = tf.add(tf.matmul(x_tensor, weights), biases)\n",
    "    return out\n",
    "\n",
    "\n",
    "\"\"\"\n",
    "DON'T MODIFY ANYTHING IN THIS CELL THAT IS BELOW THIS LINE\n",
    "\"\"\"\n",
    "tests.test_output(output)"
   ]
  },
  {
   "cell_type": "markdown",
   "metadata": {
    "deletable": true,
    "editable": true
   },
   "source": [
    "### Create Convolutional Model\n",
    "Implement the function `conv_net` to create a convolutional neural network model. The function takes in a batch of images, `x`, and outputs logits.  Use the layers you created above to create this model:\n",
    "\n",
    "* Apply 1, 2, or 3 Convolution and Max Pool layers\n",
    "* Apply a Flatten Layer\n",
    "* Apply 1, 2, or 3 Fully Connected Layers\n",
    "* Apply an Output Layer\n",
    "* Return the output\n",
    "* Apply [TensorFlow's Dropout](https://www.tensorflow.org/api_docs/python/tf/nn/dropout) to one or more layers in the model using `keep_prob`. "
   ]
  },
  {
   "cell_type": "code",
   "execution_count": 27,
   "metadata": {
    "collapsed": false,
    "deletable": true,
    "editable": true
   },
   "outputs": [
    {
     "name": "stdout",
     "output_type": "stream",
     "text": [
      "Neural Network Built!\n"
     ]
    }
   ],
   "source": [
    "def conv_net(x, keep_prob):\n",
    "    \"\"\"\n",
    "    Create a convolutional neural network model\n",
    "    : x: Placeholder tensor that holds image data.\n",
    "    : keep_prob: Placeholder tensor that hold dropout keep probability.\n",
    "    : return: Tensor that represents logits\n",
    "    \"\"\"\n",
    "    # TODO: Apply 1, 2, or 3 Convolution and Max Pool layers\n",
    "    #    Play around with different number of outputs, kernel size and stride\n",
    "    \"\"\"\n",
    "    Apply convolution then max pooling to x_tensor\n",
    "    :param x_tensor: TensorFlow Tensor # (?, 32, 32, 5)\n",
    "    :param conv_num_outputs: Number of outputs for the convolutional layer # 10\n",
    "    :param conv_ksize: kernal size 2-D Tuple for the convolutional layer # (2, 2)\n",
    "    :param conv_strides: Stride 2-D Tuple for convolution # (4, 4)\n",
    "    :param pool_ksize: kernal size 2-D Tuple for pool # (2, 2)\n",
    "    :param pool_strides: Stride 2-D Tuple for pool # (2, 2)\n",
    "    : return: A tensor that represents convolution and max pooling of x_tensor\n",
    "    \"\"\"\n",
    "    # Function Definition from Above:\n",
    "    #    conv2d_maxpool(x_tensor, conv_num_outputs, conv_ksize, conv_strides, pool_ksize, pool_strides)\n",
    "    # Single layer attempt:\n",
    "    #con1 = conv2d_maxpool(x,   10,  [2, 2], [4, 4], [2, 2], [2, 2])\n",
    "    \n",
    "    # Double layer attempt:\n",
    "    # 2x2 patch striding 1 = (32-2+1)/1 = 31x31x32 output\n",
    "    con1 = conv2d_maxpool(x,   32,  [2, 2], [1, 1], [1, 1], [1, 1])\n",
    "    con1 = tf.nn.dropout(con1, keep_prob)\n",
    "    \n",
    "    # 4x4 patch striding 2 = 28x28x16 striding 2 = 14x14x16\n",
    "    # maxpool 2x2 striding 2 = (14-2)/2 = 6x6x16 outpout\n",
    "    con2 = conv2d_maxpool(con1, 16,  [4, 4], [2, 2], [2, 2], [2, 2])\n",
    "    con2 = tf.nn.dropout(con2, keep_prob)\n",
    "\n",
    "    # TODO: Apply a Flatten Layer\n",
    "    # Function Definition from Above:\n",
    "    #   flatten(x_tensor)\n",
    "    flat = flatten(con2)\n",
    "\n",
    "    # TODO: Apply 1, 2, or 3 Fully Connected Layers\n",
    "    #    Play around with different number of outputs\n",
    "    # Function Definition from Above:\n",
    "    #   fully_conn(x_tensor, num_outputs)\n",
    "    fc1 = fully_conn(flat, 100)\n",
    "    fc1 = tf.nn.dropout(fc1, keep_prob)\n",
    "    \n",
    "    # TODO: Apply an Output Layer\n",
    "    #    Set this to the number of classes\n",
    "    # Function Definition from Above:\n",
    "    #   output(x_tensor, num_outputs)\n",
    "    out = output(fc1, 10)\n",
    "    \n",
    "    # TODO: return output\n",
    "    return out\n",
    "\n",
    "\n",
    "\"\"\"\n",
    "DON'T MODIFY ANYTHING IN THIS CELL THAT IS BELOW THIS LINE\n",
    "\"\"\"\n",
    "\n",
    "##############################\n",
    "## Build the Neural Network ##\n",
    "##############################\n",
    "\n",
    "# Remove previous weights, bias, inputs, etc..\n",
    "tf.reset_default_graph()\n",
    "\n",
    "# Inputs\n",
    "x = neural_net_image_input((32, 32, 3))\n",
    "y = neural_net_label_input(10)\n",
    "keep_prob = neural_net_keep_prob_input()\n",
    "\n",
    "# Model\n",
    "logits = conv_net(x, keep_prob)\n",
    "\n",
    "# Name logits Tensor, so that is can be loaded from disk after training\n",
    "logits = tf.identity(logits, name='logits')\n",
    "\n",
    "# Loss and Optimizer\n",
    "cost = tf.reduce_mean(tf.nn.softmax_cross_entropy_with_logits(logits=logits, labels=y))\n",
    "optimizer = tf.train.AdamOptimizer().minimize(cost)\n",
    "\n",
    "# Accuracy\n",
    "correct_pred = tf.equal(tf.argmax(logits, 1), tf.argmax(y, 1))\n",
    "accuracy = tf.reduce_mean(tf.cast(correct_pred, tf.float32), name='accuracy')\n",
    "\n",
    "tests.test_conv_net(conv_net)"
   ]
  },
  {
   "cell_type": "markdown",
   "metadata": {
    "deletable": true,
    "editable": true
   },
   "source": [
    "## Train the Neural Network\n",
    "### Single Optimization\n",
    "Implement the function `train_neural_network` to do a single optimization.  The optimization should use `optimizer` to optimize in `session` with a `feed_dict` of the following:\n",
    "* `x` for image input\n",
    "* `y` for labels\n",
    "* `keep_prob` for keep probability for dropout\n",
    "\n",
    "This function will be called for each batch, so `tf.global_variables_initializer()` has already been called.\n",
    "\n",
    "Note: Nothing needs to be returned. This function is only optimizing the neural network."
   ]
  },
  {
   "cell_type": "code",
   "execution_count": 8,
   "metadata": {
    "collapsed": false,
    "deletable": true,
    "editable": true
   },
   "outputs": [
    {
     "name": "stdout",
     "output_type": "stream",
     "text": [
      "Tests Passed\n"
     ]
    }
   ],
   "source": [
    "def train_neural_network(session, optimizer, keep_probability, feature_batch, label_batch):\n",
    "    \"\"\"\n",
    "    Optimize the session on a batch of images and labels\n",
    "    : session: Current TensorFlow session\n",
    "    : optimizer: TensorFlow optimizer function\n",
    "    : keep_probability: keep probability\n",
    "    : feature_batch: Batch of Numpy image data\n",
    "    : label_batch: Batch of Numpy label data\n",
    "    \"\"\"\n",
    "    # TODO: Implement Function\n",
    "    session.run(optimizer, feed_dict={x: feature_batch, y: label_batch, keep_prob: keep_probability})    \n",
    "\n",
    "\n",
    "\"\"\"\n",
    "DON'T MODIFY ANYTHING IN THIS CELL THAT IS BELOW THIS LINE\n",
    "\"\"\"\n",
    "tests.test_train_nn(train_neural_network)"
   ]
  },
  {
   "cell_type": "markdown",
   "metadata": {
    "deletable": true,
    "editable": true
   },
   "source": [
    "### Show Stats\n",
    "Implement the function `print_stats` to print loss and validation accuracy.  Use the global variables `valid_features` and `valid_labels` to calculate validation accuracy.  Use a keep probability of `1.0` to calculate the loss and validation accuracy."
   ]
  },
  {
   "cell_type": "code",
   "execution_count": 9,
   "metadata": {
    "collapsed": false,
    "deletable": true,
    "editable": true
   },
   "outputs": [],
   "source": [
    "def print_stats(session, feature_batch, label_batch, cost, accuracy):\n",
    "    \"\"\"\n",
    "    Print information about loss and validation accuracy\n",
    "    : session: Current TensorFlow session\n",
    "    : feature_batch: Batch of Numpy image data\n",
    "    : label_batch: Batch of Numpy label data\n",
    "    : cost: TensorFlow cost function\n",
    "    : accuracy: TensorFlow accuracy function\n",
    "    \"\"\"\n",
    "    # TODO: Implement Function\n",
    "    loss = sess.run(cost, feed_dict={x: feature_batch, y: label_batch, keep_prob: 1.0})\n",
    "    valid_acc = sess.run(accuracy, feed_dict={x: valid_features, y: valid_labels, keep_prob: 1.0})\n",
    "\n",
    "    print('    Loss: {:>10.4f}, Validation Accuracy: {:.6f}'.format(loss, valid_acc))"
   ]
  },
  {
   "cell_type": "markdown",
   "metadata": {
    "deletable": true,
    "editable": true
   },
   "source": [
    "### Hyperparameters\n",
    "Tune the following parameters:\n",
    "* Set `epochs` to the number of iterations until the network stops learning or start overfitting\n",
    "* Set `batch_size` to the highest number that your machine has memory for.  Most people set them to common sizes of memory:\n",
    " * 64\n",
    " * 128\n",
    " * 256\n",
    " * ...\n",
    "* Set `keep_probability` to the probability of keeping a node using dropout"
   ]
  },
  {
   "cell_type": "code",
   "execution_count": 20,
   "metadata": {
    "collapsed": true,
    "deletable": true,
    "editable": true
   },
   "outputs": [],
   "source": [
    "# TODO: Tune Parameters\n",
    "epochs = 50\n",
    "batch_size = 256\n",
    "keep_probability = 0.5"
   ]
  },
  {
   "cell_type": "markdown",
   "metadata": {
    "deletable": true,
    "editable": true
   },
   "source": [
    "### Train on a Single CIFAR-10 Batch\n",
    "Instead of training the neural network on all the CIFAR-10 batches of data, let's use a single batch. This should save time while you iterate on the model to get a better accuracy.  Once the final validation accuracy is 50% or greater, run the model on all the data in the next section."
   ]
  },
  {
   "cell_type": "code",
   "execution_count": 28,
   "metadata": {
    "collapsed": false,
    "deletable": true,
    "editable": true,
    "scrolled": true
   },
   "outputs": [
    {
     "name": "stdout",
     "output_type": "stream",
     "text": [
      "Checking the Training on a Single Batch...\n",
      "Epoch  1, CIFAR-10 Batch 1:      Loss:     2.2977, Validation Accuracy: 0.099800\n",
      "Epoch  2, CIFAR-10 Batch 1:      Loss:     2.2493, Validation Accuracy: 0.181400\n",
      "Epoch  3, CIFAR-10 Batch 1:      Loss:     2.1707, Validation Accuracy: 0.254000\n",
      "Epoch  4, CIFAR-10 Batch 1:      Loss:     2.0792, Validation Accuracy: 0.317600\n",
      "Epoch  5, CIFAR-10 Batch 1:      Loss:     1.9658, Validation Accuracy: 0.348400\n",
      "Epoch  6, CIFAR-10 Batch 1:      Loss:     1.8774, Validation Accuracy: 0.362600\n",
      "Epoch  7, CIFAR-10 Batch 1:      Loss:     1.8470, Validation Accuracy: 0.386400\n",
      "Epoch  8, CIFAR-10 Batch 1:      Loss:     1.7687, Validation Accuracy: 0.405800\n",
      "Epoch  9, CIFAR-10 Batch 1:      Loss:     1.7248, Validation Accuracy: 0.415600\n",
      "Epoch 10, CIFAR-10 Batch 1:      Loss:     1.6663, Validation Accuracy: 0.425600\n",
      "Epoch 11, CIFAR-10 Batch 1:      Loss:     1.6176, Validation Accuracy: 0.428400\n",
      "Epoch 12, CIFAR-10 Batch 1:      Loss:     1.5655, Validation Accuracy: 0.441800\n",
      "Epoch 13, CIFAR-10 Batch 1:      Loss:     1.5321, Validation Accuracy: 0.450000\n",
      "Epoch 14, CIFAR-10 Batch 1:      Loss:     1.4590, Validation Accuracy: 0.457800\n",
      "Epoch 15, CIFAR-10 Batch 1:      Loss:     1.4324, Validation Accuracy: 0.461200\n",
      "Epoch 16, CIFAR-10 Batch 1:      Loss:     1.3844, Validation Accuracy: 0.471800\n",
      "Epoch 17, CIFAR-10 Batch 1:      Loss:     1.3495, Validation Accuracy: 0.476000\n",
      "Epoch 18, CIFAR-10 Batch 1:      Loss:     1.2915, Validation Accuracy: 0.487600\n",
      "Epoch 19, CIFAR-10 Batch 1:      Loss:     1.2786, Validation Accuracy: 0.482400\n",
      "Epoch 20, CIFAR-10 Batch 1:      Loss:     1.2249, Validation Accuracy: 0.495400\n",
      "Epoch 21, CIFAR-10 Batch 1:      Loss:     1.2056, Validation Accuracy: 0.494600\n",
      "Epoch 22, CIFAR-10 Batch 1:      Loss:     1.1874, Validation Accuracy: 0.496400\n",
      "Epoch 23, CIFAR-10 Batch 1:      Loss:     1.1382, Validation Accuracy: 0.497200\n",
      "Epoch 24, CIFAR-10 Batch 1:      Loss:     1.1351, Validation Accuracy: 0.499200\n",
      "Epoch 25, CIFAR-10 Batch 1:      Loss:     1.1135, Validation Accuracy: 0.500800\n",
      "Epoch 26, CIFAR-10 Batch 1:      Loss:     1.0819, Validation Accuracy: 0.504200\n",
      "Epoch 27, CIFAR-10 Batch 1:      Loss:     1.0435, Validation Accuracy: 0.510200\n",
      "Epoch 28, CIFAR-10 Batch 1:      Loss:     1.0422, Validation Accuracy: 0.510200\n",
      "Epoch 29, CIFAR-10 Batch 1:      Loss:     0.9923, Validation Accuracy: 0.509800\n",
      "Epoch 30, CIFAR-10 Batch 1:      Loss:     0.9734, Validation Accuracy: 0.523600\n",
      "Epoch 31, CIFAR-10 Batch 1:      Loss:     0.9735, Validation Accuracy: 0.520000\n",
      "Epoch 32, CIFAR-10 Batch 1:      Loss:     0.9500, Validation Accuracy: 0.529200\n",
      "Epoch 33, CIFAR-10 Batch 1:      Loss:     0.9225, Validation Accuracy: 0.523600\n",
      "Epoch 34, CIFAR-10 Batch 1:      Loss:     0.9126, Validation Accuracy: 0.526400\n",
      "Epoch 35, CIFAR-10 Batch 1:      Loss:     0.8909, Validation Accuracy: 0.529400\n",
      "Epoch 36, CIFAR-10 Batch 1:      Loss:     0.8830, Validation Accuracy: 0.529400\n",
      "Epoch 37, CIFAR-10 Batch 1:      Loss:     0.8670, Validation Accuracy: 0.535200\n",
      "Epoch 38, CIFAR-10 Batch 1:      Loss:     0.8547, Validation Accuracy: 0.535200\n",
      "Epoch 39, CIFAR-10 Batch 1:      Loss:     0.8147, Validation Accuracy: 0.529200\n",
      "Epoch 40, CIFAR-10 Batch 1:      Loss:     0.8345, Validation Accuracy: 0.528600\n",
      "Epoch 41, CIFAR-10 Batch 1:      Loss:     0.7817, Validation Accuracy: 0.539400\n",
      "Epoch 42, CIFAR-10 Batch 1:      Loss:     0.7642, Validation Accuracy: 0.544000\n",
      "Epoch 43, CIFAR-10 Batch 1:      Loss:     0.7488, Validation Accuracy: 0.542600\n",
      "Epoch 44, CIFAR-10 Batch 1:      Loss:     0.7289, Validation Accuracy: 0.547600\n",
      "Epoch 45, CIFAR-10 Batch 1:      Loss:     0.7369, Validation Accuracy: 0.550400\n",
      "Epoch 46, CIFAR-10 Batch 1:      Loss:     0.7199, Validation Accuracy: 0.542200\n",
      "Epoch 47, CIFAR-10 Batch 1:      Loss:     0.7064, Validation Accuracy: 0.554200\n",
      "Epoch 48, CIFAR-10 Batch 1:      Loss:     0.7103, Validation Accuracy: 0.543200\n",
      "Epoch 49, CIFAR-10 Batch 1:      Loss:     0.7083, Validation Accuracy: 0.554800\n",
      "Epoch 50, CIFAR-10 Batch 1:      Loss:     0.6849, Validation Accuracy: 0.554000\n"
     ]
    }
   ],
   "source": [
    "\"\"\"\n",
    "DON'T MODIFY ANYTHING IN THIS CELL\n",
    "\"\"\"\n",
    "print('Checking the Training on a Single Batch...')\n",
    "with tf.Session() as sess:\n",
    "    # Initializing the variables\n",
    "    sess.run(tf.global_variables_initializer())\n",
    "    \n",
    "    # Training cycle\n",
    "    for epoch in range(epochs):\n",
    "        batch_i = 1\n",
    "        for batch_features, batch_labels in helper.load_preprocess_training_batch(batch_i, batch_size):\n",
    "            train_neural_network(sess, optimizer, keep_probability, batch_features, batch_labels)\n",
    "        print('Epoch {:>2}, CIFAR-10 Batch {}:  '.format(epoch + 1, batch_i), end='')\n",
    "        print_stats(sess, batch_features, batch_labels, cost, accuracy)"
   ]
  },
  {
   "cell_type": "markdown",
   "metadata": {
    "deletable": true,
    "editable": true
   },
   "source": [
    "### Fully Train the Model\n",
    "Now that you got a good accuracy with a single CIFAR-10 batch, try it with all five batches."
   ]
  },
  {
   "cell_type": "code",
   "execution_count": 29,
   "metadata": {
    "collapsed": false,
    "deletable": true,
    "editable": true
   },
   "outputs": [
    {
     "name": "stdout",
     "output_type": "stream",
     "text": [
      "Training...\n",
      "Epoch  1, CIFAR-10 Batch 1:      Loss:     2.3005, Validation Accuracy: 0.112400\n",
      "Epoch  1, CIFAR-10 Batch 2:      Loss:     2.2150, Validation Accuracy: 0.205600\n",
      "Epoch  1, CIFAR-10 Batch 3:      Loss:     1.9587, Validation Accuracy: 0.271800\n",
      "Epoch  1, CIFAR-10 Batch 4:      Loss:     2.0280, Validation Accuracy: 0.249000\n",
      "Epoch  1, CIFAR-10 Batch 5:      Loss:     2.0155, Validation Accuracy: 0.325600\n",
      "Epoch  2, CIFAR-10 Batch 1:      Loss:     2.0219, Validation Accuracy: 0.329800\n",
      "Epoch  2, CIFAR-10 Batch 2:      Loss:     1.9010, Validation Accuracy: 0.361600\n",
      "Epoch  2, CIFAR-10 Batch 3:      Loss:     1.7241, Validation Accuracy: 0.368000\n",
      "Epoch  2, CIFAR-10 Batch 4:      Loss:     1.7613, Validation Accuracy: 0.362400\n",
      "Epoch  2, CIFAR-10 Batch 5:      Loss:     1.8047, Validation Accuracy: 0.390600\n",
      "Epoch  3, CIFAR-10 Batch 1:      Loss:     1.8100, Validation Accuracy: 0.398800\n",
      "Epoch  3, CIFAR-10 Batch 2:      Loss:     1.7004, Validation Accuracy: 0.411000\n",
      "Epoch  3, CIFAR-10 Batch 3:      Loss:     1.4638, Validation Accuracy: 0.423200\n",
      "Epoch  3, CIFAR-10 Batch 4:      Loss:     1.6029, Validation Accuracy: 0.431000\n",
      "Epoch  3, CIFAR-10 Batch 5:      Loss:     1.6324, Validation Accuracy: 0.436400\n",
      "Epoch  4, CIFAR-10 Batch 1:      Loss:     1.7336, Validation Accuracy: 0.452200\n",
      "Epoch  4, CIFAR-10 Batch 2:      Loss:     1.5029, Validation Accuracy: 0.451000\n",
      "Epoch  4, CIFAR-10 Batch 3:      Loss:     1.3003, Validation Accuracy: 0.463600\n",
      "Epoch  4, CIFAR-10 Batch 4:      Loss:     1.4944, Validation Accuracy: 0.476200\n",
      "Epoch  4, CIFAR-10 Batch 5:      Loss:     1.5202, Validation Accuracy: 0.476600\n",
      "Epoch  5, CIFAR-10 Batch 1:      Loss:     1.6284, Validation Accuracy: 0.474400\n",
      "Epoch  5, CIFAR-10 Batch 2:      Loss:     1.3850, Validation Accuracy: 0.490000\n",
      "Epoch  5, CIFAR-10 Batch 3:      Loss:     1.2232, Validation Accuracy: 0.487000\n",
      "Epoch  5, CIFAR-10 Batch 4:      Loss:     1.3779, Validation Accuracy: 0.498000\n",
      "Epoch  5, CIFAR-10 Batch 5:      Loss:     1.4562, Validation Accuracy: 0.493200\n",
      "Epoch  6, CIFAR-10 Batch 1:      Loss:     1.5355, Validation Accuracy: 0.501000\n",
      "Epoch  6, CIFAR-10 Batch 2:      Loss:     1.3061, Validation Accuracy: 0.509200\n",
      "Epoch  6, CIFAR-10 Batch 3:      Loss:     1.1842, Validation Accuracy: 0.505000\n",
      "Epoch  6, CIFAR-10 Batch 4:      Loss:     1.3053, Validation Accuracy: 0.513800\n",
      "Epoch  6, CIFAR-10 Batch 5:      Loss:     1.3835, Validation Accuracy: 0.511800\n",
      "Epoch  7, CIFAR-10 Batch 1:      Loss:     1.4781, Validation Accuracy: 0.514400\n",
      "Epoch  7, CIFAR-10 Batch 2:      Loss:     1.2553, Validation Accuracy: 0.525400\n",
      "Epoch  7, CIFAR-10 Batch 3:      Loss:     1.1368, Validation Accuracy: 0.528000\n",
      "Epoch  7, CIFAR-10 Batch 4:      Loss:     1.2778, Validation Accuracy: 0.532000\n",
      "Epoch  7, CIFAR-10 Batch 5:      Loss:     1.3152, Validation Accuracy: 0.534200\n",
      "Epoch  8, CIFAR-10 Batch 1:      Loss:     1.3978, Validation Accuracy: 0.539600\n",
      "Epoch  8, CIFAR-10 Batch 2:      Loss:     1.1881, Validation Accuracy: 0.537600\n",
      "Epoch  8, CIFAR-10 Batch 3:      Loss:     1.0562, Validation Accuracy: 0.532800\n",
      "Epoch  8, CIFAR-10 Batch 4:      Loss:     1.2306, Validation Accuracy: 0.547200\n",
      "Epoch  8, CIFAR-10 Batch 5:      Loss:     1.2575, Validation Accuracy: 0.538800\n",
      "Epoch  9, CIFAR-10 Batch 1:      Loss:     1.3188, Validation Accuracy: 0.550400\n",
      "Epoch  9, CIFAR-10 Batch 2:      Loss:     1.1211, Validation Accuracy: 0.548200\n",
      "Epoch  9, CIFAR-10 Batch 3:      Loss:     1.0147, Validation Accuracy: 0.544800\n",
      "Epoch  9, CIFAR-10 Batch 4:      Loss:     1.1932, Validation Accuracy: 0.561400\n",
      "Epoch  9, CIFAR-10 Batch 5:      Loss:     1.2167, Validation Accuracy: 0.552600\n",
      "Epoch 10, CIFAR-10 Batch 1:      Loss:     1.2511, Validation Accuracy: 0.561000\n",
      "Epoch 10, CIFAR-10 Batch 2:      Loss:     1.0672, Validation Accuracy: 0.562800\n",
      "Epoch 10, CIFAR-10 Batch 3:      Loss:     0.9506, Validation Accuracy: 0.557400\n",
      "Epoch 10, CIFAR-10 Batch 4:      Loss:     1.1908, Validation Accuracy: 0.563600\n",
      "Epoch 10, CIFAR-10 Batch 5:      Loss:     1.1619, Validation Accuracy: 0.562600\n",
      "Epoch 11, CIFAR-10 Batch 1:      Loss:     1.2440, Validation Accuracy: 0.567400\n",
      "Epoch 11, CIFAR-10 Batch 2:      Loss:     1.0668, Validation Accuracy: 0.568400\n",
      "Epoch 11, CIFAR-10 Batch 3:      Loss:     0.9235, Validation Accuracy: 0.569600\n",
      "Epoch 11, CIFAR-10 Batch 4:      Loss:     1.1278, Validation Accuracy: 0.578000\n",
      "Epoch 11, CIFAR-10 Batch 5:      Loss:     1.1253, Validation Accuracy: 0.572800\n",
      "Epoch 12, CIFAR-10 Batch 1:      Loss:     1.2286, Validation Accuracy: 0.570600\n",
      "Epoch 12, CIFAR-10 Batch 2:      Loss:     1.0563, Validation Accuracy: 0.575200\n",
      "Epoch 12, CIFAR-10 Batch 3:      Loss:     0.9216, Validation Accuracy: 0.574400\n",
      "Epoch 12, CIFAR-10 Batch 4:      Loss:     1.0866, Validation Accuracy: 0.582400\n",
      "Epoch 12, CIFAR-10 Batch 5:      Loss:     1.1083, Validation Accuracy: 0.579000\n",
      "Epoch 13, CIFAR-10 Batch 1:      Loss:     1.1179, Validation Accuracy: 0.584800\n",
      "Epoch 13, CIFAR-10 Batch 2:      Loss:     1.0032, Validation Accuracy: 0.586600\n",
      "Epoch 13, CIFAR-10 Batch 3:      Loss:     0.8578, Validation Accuracy: 0.580000\n",
      "Epoch 13, CIFAR-10 Batch 4:      Loss:     1.0529, Validation Accuracy: 0.589600\n",
      "Epoch 13, CIFAR-10 Batch 5:      Loss:     1.0550, Validation Accuracy: 0.584400\n",
      "Epoch 14, CIFAR-10 Batch 1:      Loss:     1.1102, Validation Accuracy: 0.594200\n",
      "Epoch 14, CIFAR-10 Batch 2:      Loss:     0.9444, Validation Accuracy: 0.590000\n",
      "Epoch 14, CIFAR-10 Batch 3:      Loss:     0.8430, Validation Accuracy: 0.581800\n",
      "Epoch 14, CIFAR-10 Batch 4:      Loss:     1.0179, Validation Accuracy: 0.589600\n",
      "Epoch 14, CIFAR-10 Batch 5:      Loss:     1.0296, Validation Accuracy: 0.590600\n",
      "Epoch 15, CIFAR-10 Batch 1:      Loss:     1.0899, Validation Accuracy: 0.594000\n",
      "Epoch 15, CIFAR-10 Batch 2:      Loss:     0.9521, Validation Accuracy: 0.599000\n",
      "Epoch 15, CIFAR-10 Batch 3:      Loss:     0.8337, Validation Accuracy: 0.593200\n",
      "Epoch 15, CIFAR-10 Batch 4:      Loss:     1.0031, Validation Accuracy: 0.602800\n",
      "Epoch 15, CIFAR-10 Batch 5:      Loss:     1.0361, Validation Accuracy: 0.592600\n",
      "Epoch 16, CIFAR-10 Batch 1:      Loss:     1.0433, Validation Accuracy: 0.599800\n",
      "Epoch 16, CIFAR-10 Batch 2:      Loss:     0.9364, Validation Accuracy: 0.605000\n",
      "Epoch 16, CIFAR-10 Batch 3:      Loss:     0.8219, Validation Accuracy: 0.597200\n",
      "Epoch 16, CIFAR-10 Batch 4:      Loss:     0.9790, Validation Accuracy: 0.607000\n",
      "Epoch 16, CIFAR-10 Batch 5:      Loss:     0.9930, Validation Accuracy: 0.599000\n",
      "Epoch 17, CIFAR-10 Batch 1:      Loss:     1.0370, Validation Accuracy: 0.601000\n",
      "Epoch 17, CIFAR-10 Batch 2:      Loss:     0.9301, Validation Accuracy: 0.602800\n",
      "Epoch 17, CIFAR-10 Batch 3:      Loss:     0.7427, Validation Accuracy: 0.607400\n",
      "Epoch 17, CIFAR-10 Batch 4:      Loss:     0.9462, Validation Accuracy: 0.610200\n",
      "Epoch 17, CIFAR-10 Batch 5:      Loss:     0.9525, Validation Accuracy: 0.599800\n",
      "Epoch 18, CIFAR-10 Batch 1:      Loss:     1.0156, Validation Accuracy: 0.610400\n",
      "Epoch 18, CIFAR-10 Batch 2:      Loss:     0.9242, Validation Accuracy: 0.609800\n",
      "Epoch 18, CIFAR-10 Batch 3:      Loss:     0.7872, Validation Accuracy: 0.611000\n",
      "Epoch 18, CIFAR-10 Batch 4:      Loss:     0.9294, Validation Accuracy: 0.617200\n",
      "Epoch 18, CIFAR-10 Batch 5:      Loss:     0.9468, Validation Accuracy: 0.608800\n",
      "Epoch 19, CIFAR-10 Batch 1:      Loss:     0.9945, Validation Accuracy: 0.611000\n",
      "Epoch 19, CIFAR-10 Batch 2:      Loss:     0.9091, Validation Accuracy: 0.614400\n",
      "Epoch 19, CIFAR-10 Batch 3:      Loss:     0.7266, Validation Accuracy: 0.611000\n",
      "Epoch 19, CIFAR-10 Batch 4:      Loss:     0.9071, Validation Accuracy: 0.621400\n",
      "Epoch 19, CIFAR-10 Batch 5:      Loss:     0.9461, Validation Accuracy: 0.608800\n",
      "Epoch 20, CIFAR-10 Batch 1:      Loss:     0.9832, Validation Accuracy: 0.612800\n",
      "Epoch 20, CIFAR-10 Batch 2:      Loss:     0.8698, Validation Accuracy: 0.619600\n",
      "Epoch 20, CIFAR-10 Batch 3:      Loss:     0.7160, Validation Accuracy: 0.627200\n",
      "Epoch 20, CIFAR-10 Batch 4:      Loss:     0.9100, Validation Accuracy: 0.621600\n",
      "Epoch 20, CIFAR-10 Batch 5:      Loss:     0.9266, Validation Accuracy: 0.614200\n",
      "Epoch 21, CIFAR-10 Batch 1:      Loss:     0.9745, Validation Accuracy: 0.619800\n",
      "Epoch 21, CIFAR-10 Batch 2:      Loss:     0.8907, Validation Accuracy: 0.617400\n",
      "Epoch 21, CIFAR-10 Batch 3:      Loss:     0.7111, Validation Accuracy: 0.624600\n",
      "Epoch 21, CIFAR-10 Batch 4:      Loss:     0.8650, Validation Accuracy: 0.622600\n",
      "Epoch 21, CIFAR-10 Batch 5:      Loss:     0.8992, Validation Accuracy: 0.620200\n",
      "Epoch 22, CIFAR-10 Batch 1:      Loss:     0.9597, Validation Accuracy: 0.623800\n",
      "Epoch 22, CIFAR-10 Batch 2:      Loss:     0.8572, Validation Accuracy: 0.622200\n",
      "Epoch 22, CIFAR-10 Batch 3:      Loss:     0.7070, Validation Accuracy: 0.620800\n",
      "Epoch 22, CIFAR-10 Batch 4:      Loss:     0.8713, Validation Accuracy: 0.631400\n",
      "Epoch 22, CIFAR-10 Batch 5:      Loss:     0.8969, Validation Accuracy: 0.616000\n",
      "Epoch 23, CIFAR-10 Batch 1:      Loss:     0.9463, Validation Accuracy: 0.627800\n",
      "Epoch 23, CIFAR-10 Batch 2:      Loss:     0.8556, Validation Accuracy: 0.630800\n",
      "Epoch 23, CIFAR-10 Batch 3:      Loss:     0.6599, Validation Accuracy: 0.636200\n",
      "Epoch 23, CIFAR-10 Batch 4:      Loss:     0.8381, Validation Accuracy: 0.627000\n",
      "Epoch 23, CIFAR-10 Batch 5:      Loss:     0.8952, Validation Accuracy: 0.624000\n",
      "Epoch 24, CIFAR-10 Batch 1:      Loss:     0.9315, Validation Accuracy: 0.632000\n",
      "Epoch 24, CIFAR-10 Batch 2:      Loss:     0.8271, Validation Accuracy: 0.629400\n",
      "Epoch 24, CIFAR-10 Batch 3:      Loss:     0.6535, Validation Accuracy: 0.634400\n",
      "Epoch 24, CIFAR-10 Batch 4:      Loss:     0.8711, Validation Accuracy: 0.637400\n",
      "Epoch 24, CIFAR-10 Batch 5:      Loss:     0.8856, Validation Accuracy: 0.622200\n",
      "Epoch 25, CIFAR-10 Batch 1:      Loss:     0.8772, Validation Accuracy: 0.635600\n",
      "Epoch 25, CIFAR-10 Batch 2:      Loss:     0.8647, Validation Accuracy: 0.632200\n",
      "Epoch 25, CIFAR-10 Batch 3:      Loss:     0.6687, Validation Accuracy: 0.631000\n",
      "Epoch 25, CIFAR-10 Batch 4:      Loss:     0.8358, Validation Accuracy: 0.637200\n",
      "Epoch 25, CIFAR-10 Batch 5:      Loss:     0.8420, Validation Accuracy: 0.627200\n",
      "Epoch 26, CIFAR-10 Batch 1:      Loss:     0.8828, Validation Accuracy: 0.635800\n",
      "Epoch 26, CIFAR-10 Batch 2:      Loss:     0.8560, Validation Accuracy: 0.637000\n",
      "Epoch 26, CIFAR-10 Batch 3:      Loss:     0.6340, Validation Accuracy: 0.637600\n",
      "Epoch 26, CIFAR-10 Batch 4:      Loss:     0.8300, Validation Accuracy: 0.640200\n",
      "Epoch 26, CIFAR-10 Batch 5:      Loss:     0.8407, Validation Accuracy: 0.626800\n",
      "Epoch 27, CIFAR-10 Batch 1:      Loss:     0.8578, Validation Accuracy: 0.636200\n",
      "Epoch 27, CIFAR-10 Batch 2:      Loss:     0.8046, Validation Accuracy: 0.641800\n",
      "Epoch 27, CIFAR-10 Batch 3:      Loss:     0.6111, Validation Accuracy: 0.639400\n",
      "Epoch 27, CIFAR-10 Batch 4:      Loss:     0.8193, Validation Accuracy: 0.640600\n",
      "Epoch 27, CIFAR-10 Batch 5:      Loss:     0.8792, Validation Accuracy: 0.625800\n",
      "Epoch 28, CIFAR-10 Batch 1:      Loss:     0.8886, Validation Accuracy: 0.640400\n",
      "Epoch 28, CIFAR-10 Batch 2:      Loss:     0.8205, Validation Accuracy: 0.644200\n",
      "Epoch 28, CIFAR-10 Batch 3:      Loss:     0.6338, Validation Accuracy: 0.641800\n",
      "Epoch 28, CIFAR-10 Batch 4:      Loss:     0.7965, Validation Accuracy: 0.647600\n",
      "Epoch 28, CIFAR-10 Batch 5:      Loss:     0.7736, Validation Accuracy: 0.645000\n",
      "Epoch 29, CIFAR-10 Batch 1:      Loss:     0.8371, Validation Accuracy: 0.644800\n",
      "Epoch 29, CIFAR-10 Batch 2:      Loss:     0.8208, Validation Accuracy: 0.648800\n",
      "Epoch 29, CIFAR-10 Batch 3:      Loss:     0.6216, Validation Accuracy: 0.644200\n",
      "Epoch 29, CIFAR-10 Batch 4:      Loss:     0.8255, Validation Accuracy: 0.645800\n",
      "Epoch 29, CIFAR-10 Batch 5:      Loss:     0.7986, Validation Accuracy: 0.631600\n",
      "Epoch 30, CIFAR-10 Batch 1:      Loss:     0.8354, Validation Accuracy: 0.646000\n",
      "Epoch 30, CIFAR-10 Batch 2:      Loss:     0.7885, Validation Accuracy: 0.646000\n",
      "Epoch 30, CIFAR-10 Batch 3:      Loss:     0.5907, Validation Accuracy: 0.652200\n",
      "Epoch 30, CIFAR-10 Batch 4:      Loss:     0.8374, Validation Accuracy: 0.643600\n",
      "Epoch 30, CIFAR-10 Batch 5:      Loss:     0.8429, Validation Accuracy: 0.624800\n",
      "Epoch 31, CIFAR-10 Batch 1:      Loss:     0.8269, Validation Accuracy: 0.645000\n",
      "Epoch 31, CIFAR-10 Batch 2:      Loss:     0.8037, Validation Accuracy: 0.651800\n",
      "Epoch 31, CIFAR-10 Batch 3:      Loss:     0.6205, Validation Accuracy: 0.655800\n",
      "Epoch 31, CIFAR-10 Batch 4:      Loss:     0.7874, Validation Accuracy: 0.652400\n",
      "Epoch 31, CIFAR-10 Batch 5:      Loss:     0.7860, Validation Accuracy: 0.646800\n",
      "Epoch 32, CIFAR-10 Batch 1:      Loss:     0.7931, Validation Accuracy: 0.650800\n",
      "Epoch 32, CIFAR-10 Batch 2:      Loss:     0.7826, Validation Accuracy: 0.649400\n",
      "Epoch 32, CIFAR-10 Batch 3:      Loss:     0.6142, Validation Accuracy: 0.652800\n",
      "Epoch 32, CIFAR-10 Batch 4:      Loss:     0.7449, Validation Accuracy: 0.647800\n",
      "Epoch 32, CIFAR-10 Batch 5:      Loss:     0.7784, Validation Accuracy: 0.635800\n",
      "Epoch 33, CIFAR-10 Batch 1:      Loss:     0.7939, Validation Accuracy: 0.646400\n",
      "Epoch 33, CIFAR-10 Batch 2:      Loss:     0.7798, Validation Accuracy: 0.642400\n",
      "Epoch 33, CIFAR-10 Batch 3:      Loss:     0.5904, Validation Accuracy: 0.654800\n",
      "Epoch 33, CIFAR-10 Batch 4:      Loss:     0.7231, Validation Accuracy: 0.654000\n",
      "Epoch 33, CIFAR-10 Batch 5:      Loss:     0.7660, Validation Accuracy: 0.646200\n",
      "Epoch 34, CIFAR-10 Batch 1:      Loss:     0.8040, Validation Accuracy: 0.644600\n",
      "Epoch 34, CIFAR-10 Batch 2:      Loss:     0.7645, Validation Accuracy: 0.660200\n",
      "Epoch 34, CIFAR-10 Batch 3:      Loss:     0.5953, Validation Accuracy: 0.646000\n",
      "Epoch 34, CIFAR-10 Batch 4:      Loss:     0.7314, Validation Accuracy: 0.654200\n",
      "Epoch 34, CIFAR-10 Batch 5:      Loss:     0.7673, Validation Accuracy: 0.644800\n",
      "Epoch 35, CIFAR-10 Batch 1:      Loss:     0.8220, Validation Accuracy: 0.650000\n",
      "Epoch 35, CIFAR-10 Batch 2:      Loss:     0.7918, Validation Accuracy: 0.659400\n",
      "Epoch 35, CIFAR-10 Batch 3:      Loss:     0.5773, Validation Accuracy: 0.650400\n",
      "Epoch 35, CIFAR-10 Batch 4:      Loss:     0.7258, Validation Accuracy: 0.664800\n",
      "Epoch 35, CIFAR-10 Batch 5:      Loss:     0.7439, Validation Accuracy: 0.644400\n",
      "Epoch 36, CIFAR-10 Batch 1:      Loss:     0.7550, Validation Accuracy: 0.654000\n",
      "Epoch 36, CIFAR-10 Batch 2:      Loss:     0.7468, Validation Accuracy: 0.653000\n",
      "Epoch 36, CIFAR-10 Batch 3:      Loss:     0.5719, Validation Accuracy: 0.656000\n",
      "Epoch 36, CIFAR-10 Batch 4:      Loss:     0.7147, Validation Accuracy: 0.657600\n",
      "Epoch 36, CIFAR-10 Batch 5:      Loss:     0.7638, Validation Accuracy: 0.638600\n",
      "Epoch 37, CIFAR-10 Batch 1:      Loss:     0.7662, Validation Accuracy: 0.653400\n",
      "Epoch 37, CIFAR-10 Batch 2:      Loss:     0.7510, Validation Accuracy: 0.655000\n",
      "Epoch 37, CIFAR-10 Batch 3:      Loss:     0.5989, Validation Accuracy: 0.646200\n",
      "Epoch 37, CIFAR-10 Batch 4:      Loss:     0.7140, Validation Accuracy: 0.655400\n",
      "Epoch 37, CIFAR-10 Batch 5:      Loss:     0.7276, Validation Accuracy: 0.655600\n",
      "Epoch 38, CIFAR-10 Batch 1:      Loss:     0.7468, Validation Accuracy: 0.659600\n",
      "Epoch 38, CIFAR-10 Batch 2:      Loss:     0.7267, Validation Accuracy: 0.655400\n",
      "Epoch 38, CIFAR-10 Batch 3:      Loss:     0.5785, Validation Accuracy: 0.655400\n",
      "Epoch 38, CIFAR-10 Batch 4:      Loss:     0.6875, Validation Accuracy: 0.663800\n",
      "Epoch 38, CIFAR-10 Batch 5:      Loss:     0.7013, Validation Accuracy: 0.653400\n",
      "Epoch 39, CIFAR-10 Batch 1:      Loss:     0.7290, Validation Accuracy: 0.658800\n",
      "Epoch 39, CIFAR-10 Batch 2:      Loss:     0.7229, Validation Accuracy: 0.664400\n",
      "Epoch 39, CIFAR-10 Batch 3:      Loss:     0.5762, Validation Accuracy: 0.660800\n",
      "Epoch 39, CIFAR-10 Batch 4:      Loss:     0.6883, Validation Accuracy: 0.660000\n",
      "Epoch 39, CIFAR-10 Batch 5:      Loss:     0.7290, Validation Accuracy: 0.640800\n",
      "Epoch 40, CIFAR-10 Batch 1:      Loss:     0.7162, Validation Accuracy: 0.663200\n",
      "Epoch 40, CIFAR-10 Batch 2:      Loss:     0.7332, Validation Accuracy: 0.661400\n",
      "Epoch 40, CIFAR-10 Batch 3:      Loss:     0.5611, Validation Accuracy: 0.654000\n",
      "Epoch 40, CIFAR-10 Batch 4:      Loss:     0.6869, Validation Accuracy: 0.659000\n",
      "Epoch 40, CIFAR-10 Batch 5:      Loss:     0.6993, Validation Accuracy: 0.655000\n",
      "Epoch 41, CIFAR-10 Batch 1:      Loss:     0.7347, Validation Accuracy: 0.660000\n",
      "Epoch 41, CIFAR-10 Batch 2:      Loss:     0.7451, Validation Accuracy: 0.657200\n",
      "Epoch 41, CIFAR-10 Batch 3:      Loss:     0.5555, Validation Accuracy: 0.654600\n",
      "Epoch 41, CIFAR-10 Batch 4:      Loss:     0.6790, Validation Accuracy: 0.658600\n",
      "Epoch 41, CIFAR-10 Batch 5:      Loss:     0.7031, Validation Accuracy: 0.654800\n",
      "Epoch 42, CIFAR-10 Batch 1:      Loss:     0.7005, Validation Accuracy: 0.659400\n",
      "Epoch 42, CIFAR-10 Batch 2:      Loss:     0.7245, Validation Accuracy: 0.666400\n",
      "Epoch 42, CIFAR-10 Batch 3:      Loss:     0.5558, Validation Accuracy: 0.654000\n",
      "Epoch 42, CIFAR-10 Batch 4:      Loss:     0.6765, Validation Accuracy: 0.665400\n",
      "Epoch 42, CIFAR-10 Batch 5:      Loss:     0.7061, Validation Accuracy: 0.647400\n",
      "Epoch 43, CIFAR-10 Batch 1:      Loss:     0.7022, Validation Accuracy: 0.664600\n",
      "Epoch 43, CIFAR-10 Batch 2:      Loss:     0.7554, Validation Accuracy: 0.670000\n",
      "Epoch 43, CIFAR-10 Batch 3:      Loss:     0.5178, Validation Accuracy: 0.667600\n",
      "Epoch 43, CIFAR-10 Batch 4:      Loss:     0.6539, Validation Accuracy: 0.664400\n",
      "Epoch 43, CIFAR-10 Batch 5:      Loss:     0.7213, Validation Accuracy: 0.647400\n",
      "Epoch 44, CIFAR-10 Batch 1:      Loss:     0.7113, Validation Accuracy: 0.663800\n",
      "Epoch 44, CIFAR-10 Batch 2:      Loss:     0.7016, Validation Accuracy: 0.665600\n",
      "Epoch 44, CIFAR-10 Batch 3:      Loss:     0.5319, Validation Accuracy: 0.661600\n",
      "Epoch 44, CIFAR-10 Batch 4:      Loss:     0.6475, Validation Accuracy: 0.672200\n",
      "Epoch 44, CIFAR-10 Batch 5:      Loss:     0.6720, Validation Accuracy: 0.657000\n",
      "Epoch 45, CIFAR-10 Batch 1:      Loss:     0.7065, Validation Accuracy: 0.659400\n",
      "Epoch 45, CIFAR-10 Batch 2:      Loss:     0.6918, Validation Accuracy: 0.672600\n",
      "Epoch 45, CIFAR-10 Batch 3:      Loss:     0.5450, Validation Accuracy: 0.653400\n",
      "Epoch 45, CIFAR-10 Batch 4:      Loss:     0.6271, Validation Accuracy: 0.664600\n",
      "Epoch 45, CIFAR-10 Batch 5:      Loss:     0.6758, Validation Accuracy: 0.655800\n",
      "Epoch 46, CIFAR-10 Batch 1:      Loss:     0.7337, Validation Accuracy: 0.669600\n",
      "Epoch 46, CIFAR-10 Batch 2:      Loss:     0.6630, Validation Accuracy: 0.667000\n",
      "Epoch 46, CIFAR-10 Batch 3:      Loss:     0.5223, Validation Accuracy: 0.663800\n",
      "Epoch 46, CIFAR-10 Batch 4:      Loss:     0.6387, Validation Accuracy: 0.669000\n",
      "Epoch 46, CIFAR-10 Batch 5:      Loss:     0.6676, Validation Accuracy: 0.651600\n",
      "Epoch 47, CIFAR-10 Batch 1:      Loss:     0.6949, Validation Accuracy: 0.668800\n",
      "Epoch 47, CIFAR-10 Batch 2:      Loss:     0.6743, Validation Accuracy: 0.662600\n",
      "Epoch 47, CIFAR-10 Batch 3:      Loss:     0.5296, Validation Accuracy: 0.666400\n",
      "Epoch 47, CIFAR-10 Batch 4:      Loss:     0.6375, Validation Accuracy: 0.668200\n",
      "Epoch 47, CIFAR-10 Batch 5:      Loss:     0.6744, Validation Accuracy: 0.652400\n",
      "Epoch 48, CIFAR-10 Batch 1:      Loss:     0.6818, Validation Accuracy: 0.662400\n",
      "Epoch 48, CIFAR-10 Batch 2:      Loss:     0.6593, Validation Accuracy: 0.668000\n",
      "Epoch 48, CIFAR-10 Batch 3:      Loss:     0.5517, Validation Accuracy: 0.666200\n",
      "Epoch 48, CIFAR-10 Batch 4:      Loss:     0.6228, Validation Accuracy: 0.672800\n",
      "Epoch 48, CIFAR-10 Batch 5:      Loss:     0.6972, Validation Accuracy: 0.652600\n",
      "Epoch 49, CIFAR-10 Batch 1:      Loss:     0.6997, Validation Accuracy: 0.659800\n",
      "Epoch 49, CIFAR-10 Batch 2:      Loss:     0.7004, Validation Accuracy: 0.670200\n",
      "Epoch 49, CIFAR-10 Batch 3:      Loss:     0.5381, Validation Accuracy: 0.664600\n",
      "Epoch 49, CIFAR-10 Batch 4:      Loss:     0.6131, Validation Accuracy: 0.676600\n",
      "Epoch 49, CIFAR-10 Batch 5:      Loss:     0.6713, Validation Accuracy: 0.657200\n",
      "Epoch 50, CIFAR-10 Batch 1:      Loss:     0.6509, Validation Accuracy: 0.669000\n",
      "Epoch 50, CIFAR-10 Batch 2:      Loss:     0.6653, Validation Accuracy: 0.670400\n",
      "Epoch 50, CIFAR-10 Batch 3:      Loss:     0.5518, Validation Accuracy: 0.656400\n",
      "Epoch 50, CIFAR-10 Batch 4:      Loss:     0.6229, Validation Accuracy: 0.669000\n",
      "Epoch 50, CIFAR-10 Batch 5:      Loss:     0.6597, Validation Accuracy: 0.655000\n"
     ]
    }
   ],
   "source": [
    "\"\"\"\n",
    "DON'T MODIFY ANYTHING IN THIS CELL\n",
    "\"\"\"\n",
    "save_model_path = './image_classification'\n",
    "\n",
    "print('Training...')\n",
    "with tf.Session() as sess:\n",
    "    # Initializing the variables\n",
    "    sess.run(tf.global_variables_initializer())\n",
    "    \n",
    "    # Training cycle\n",
    "    for epoch in range(epochs):\n",
    "        # Loop over all batches\n",
    "        n_batches = 5\n",
    "        for batch_i in range(1, n_batches + 1):\n",
    "            for batch_features, batch_labels in helper.load_preprocess_training_batch(batch_i, batch_size):\n",
    "                train_neural_network(sess, optimizer, keep_probability, batch_features, batch_labels)\n",
    "            print('Epoch {:>2}, CIFAR-10 Batch {}:  '.format(epoch + 1, batch_i), end='')\n",
    "            print_stats(sess, batch_features, batch_labels, cost, accuracy)\n",
    "            \n",
    "    # Save Model\n",
    "    saver = tf.train.Saver()\n",
    "    save_path = saver.save(sess, save_model_path)"
   ]
  },
  {
   "cell_type": "markdown",
   "metadata": {
    "deletable": true,
    "editable": true
   },
   "source": [
    "# Checkpoint\n",
    "The model has been saved to disk.\n",
    "## Test Model\n",
    "Test your model against the test dataset.  This will be your final accuracy. You should have an accuracy greater than 50%. If you don't, keep tweaking the model architecture and parameters."
   ]
  },
  {
   "cell_type": "code",
   "execution_count": 30,
   "metadata": {
    "collapsed": false,
    "deletable": true,
    "editable": true
   },
   "outputs": [
    {
     "name": "stdout",
     "output_type": "stream",
     "text": [
      "Testing Accuracy: 0.651953125\n",
      "\n"
     ]
    },
    {
     "data": {
      "image/png": "[encoded data removed]",
      "text/plain": [
       "<matplotlib.figure.Figure at 0x7fcfb9a19fd0>"
      ]
     },
     "metadata": {
      "image/png": {
       "height": 319,
       "width": 355
      }
     },
     "output_type": "display_data"
    }
   ],
   "source": [
    "\"\"\"\n",
    "DON'T MODIFY ANYTHING IN THIS CELL\n",
    "\"\"\"\n",
    "%matplotlib inline\n",
    "%config InlineBackend.figure_format = 'retina'\n",
    "\n",
    "import tensorflow as tf\n",
    "import pickle\n",
    "import helper\n",
    "import random\n",
    "\n",
    "# Set batch size if not already set\n",
    "try:\n",
    "    if batch_size:\n",
    "        pass\n",
    "except NameError:\n",
    "    batch_size = 64\n",
    "\n",
    "save_model_path = './image_classification'\n",
    "n_samples = 4\n",
    "top_n_predictions = 3\n",
    "\n",
    "def test_model():\n",
    "    \"\"\"\n",
    "    Test the saved model against the test dataset\n",
    "    \"\"\"\n",
    "\n",
    "    test_features, test_labels = pickle.load(open('preprocess_training.p', mode='rb'))\n",
    "    loaded_graph = tf.Graph()\n",
    "\n",
    "    with tf.Session(graph=loaded_graph) as sess:\n",
    "        # Load model\n",
    "        loader = tf.train.import_meta_graph(save_model_path + '.meta')\n",
    "        loader.restore(sess, save_model_path)\n",
    "\n",
    "        # Get Tensors from loaded model\n",
    "        loaded_x = loaded_graph.get_tensor_by_name('x:0')\n",
    "        loaded_y = loaded_graph.get_tensor_by_name('y:0')\n",
    "        loaded_keep_prob = loaded_graph.get_tensor_by_name('keep_prob:0')\n",
    "        loaded_logits = loaded_graph.get_tensor_by_name('logits:0')\n",
    "        loaded_acc = loaded_graph.get_tensor_by_name('accuracy:0')\n",
    "        \n",
    "        # Get accuracy in batches for memory limitations\n",
    "        test_batch_acc_total = 0\n",
    "        test_batch_count = 0\n",
    "        \n",
    "        for train_feature_batch, train_label_batch in helper.batch_features_labels(test_features, test_labels, batch_size):\n",
    "            test_batch_acc_total += sess.run(\n",
    "                loaded_acc,\n",
    "                feed_dict={loaded_x: train_feature_batch, loaded_y: train_label_batch, loaded_keep_prob: 1.0})\n",
    "            test_batch_count += 1\n",
    "\n",
    "        print('Testing Accuracy: {}\\n'.format(test_batch_acc_total/test_batch_count))\n",
    "\n",
    "        # Print Random Samples\n",
    "        random_test_features, random_test_labels = tuple(zip(*random.sample(list(zip(test_features, test_labels)), n_samples)))\n",
    "        random_test_predictions = sess.run(\n",
    "            tf.nn.top_k(tf.nn.softmax(loaded_logits), top_n_predictions),\n",
    "            feed_dict={loaded_x: random_test_features, loaded_y: random_test_labels, loaded_keep_prob: 1.0})\n",
    "        helper.display_image_predictions(random_test_features, random_test_labels, random_test_predictions)\n",
    "\n",
    "\n",
    "test_model()"
   ]
  },
  {
   "cell_type": "markdown",
   "metadata": {
    "deletable": true,
    "editable": true
   },
   "source": [
    "## Why 50-70% Accuracy?\n",
    "You might be wondering why you can't get an accuracy any higher. First things first, 50% isn't bad for a simple CNN.  Pure guessing would get you 10% accuracy. However, you might notice people are getting scores [well above 70%](http://rodrigob.github.io/are_we_there_yet/build/classification_datasets_results.html#43494641522d3130).  That's because we haven't taught you all there is to know about neural networks. We still need to cover a few more techniques.\n",
    "## Submitting This Project\n",
    "When submitting this project, make sure to run all the cells before saving the notebook.  Save the notebook file as \"dlnd_image_classification.ipynb\" and save it as a HTML file under \"File\" -> \"Download as\".  Include the \"helper.py\" and \"problem_unittests.py\" files in your submission."
   ]
  }
 ],
 "metadata": {
  "kernelspec": {
   "display_name": "Python 3",
   "language": "python",
   "name": "python3"
  },
  "language_info": {
   "codemirror_mode": {
    "name": "ipython",
    "version": 3
   },
   "file_extension": ".py",
   "mimetype": "text/x-python",
   "name": "python",
   "nbconvert_exporter": "python",
   "pygments_lexer": "ipython3",
   "version": "3.6.0"
  }
 },
 "nbformat": 4,
 "nbformat_minor": 0
}

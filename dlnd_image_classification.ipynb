{
 "cells": [
  {
   "cell_type": "markdown",
   "metadata": {
    "collapsed": true,
    "deletable": true,
    "editable": true
   },
   "source": [
    "# Image Classification\n",
    "In this project, you'll classify images from the [CIFAR-10 dataset](https://www.cs.toronto.edu/~kriz/cifar.html).  The dataset consists of airplanes, dogs, cats, and other objects. You'll preprocess the images, then train a convolutional neural network on all the samples. The images need to be normalized and the labels need to be one-hot encoded.  You'll get to apply what you learned and build a convolutional, max pooling, dropout, and fully connected layers.  At the end, you'll get to see your neural network's predictions on the sample images.\n",
    "## Get the Data\n",
    "Run the following cell to download the [CIFAR-10 dataset for python](https://www.cs.toronto.edu/~kriz/cifar-10-python.tar.gz)."
   ]
  },
  {
   "cell_type": "code",
   "execution_count": 14,
   "metadata": {
    "collapsed": false,
    "deletable": true,
    "editable": true
   },
   "outputs": [
    {
     "name": "stdout",
     "output_type": "stream",
     "text": [
      "All files found!\n"
     ]
    }
   ],
   "source": [
    "\"\"\"\n",
    "DON'T MODIFY ANYTHING IN THIS CELL THAT IS BELOW THIS LINE\n",
    "\"\"\"\n",
    "from urllib.request import urlretrieve\n",
    "from os.path import isfile, isdir\n",
    "from tqdm import tqdm\n",
    "import problem_unittests as tests\n",
    "import tarfile\n",
    "\n",
    "cifar10_dataset_folder_path = 'cifar-10-batches-py'\n",
    "\n",
    "class DLProgress(tqdm):\n",
    "    last_block = 0\n",
    "\n",
    "    def hook(self, block_num=1, block_size=1, total_size=None):\n",
    "        self.total = total_size\n",
    "        self.update((block_num - self.last_block) * block_size)\n",
    "        self.last_block = block_num\n",
    "\n",
    "if not isfile('cifar-10-python.tar.gz'):\n",
    "    with DLProgress(unit='B', unit_scale=True, miniters=1, desc='CIFAR-10 Dataset') as pbar:\n",
    "        urlretrieve(\n",
    "            'https://www.cs.toronto.edu/~kriz/cifar-10-python.tar.gz',\n",
    "            'cifar-10-python.tar.gz',\n",
    "            pbar.hook)\n",
    "\n",
    "if not isdir(cifar10_dataset_folder_path):\n",
    "    with tarfile.open('cifar-10-python.tar.gz') as tar:\n",
    "        tar.extractall()\n",
    "        tar.close()\n",
    "\n",
    "\n",
    "tests.test_folder_path(cifar10_dataset_folder_path)"
   ]
  },
  {
   "cell_type": "markdown",
   "metadata": {
    "deletable": true,
    "editable": true
   },
   "source": [
    "## Explore the Data\n",
    "The dataset is broken into batches to prevent your machine from running out of memory.  The CIFAR-10 dataset consists of 5 batches, named `data_batch_1`, `data_batch_2`, etc.. Each batch contains the labels and images that are one of the following:\n",
    "* airplane\n",
    "* automobile\n",
    "* bird\n",
    "* cat\n",
    "* deer\n",
    "* dog\n",
    "* frog\n",
    "* horse\n",
    "* ship\n",
    "* truck\n",
    "\n",
    "Understanding a dataset is part of making predictions on the data.  Play around with the code cell below by changing the `batch_id` and `sample_id`. The `batch_id` is the id for a batch (1-5). The `sample_id` is the id for a image and label pair in the batch.\n",
    "\n",
    "Ask yourself \"What are all possible labels?\", \"What is the range of values for the image data?\", \"Are the labels in order or random?\".  Answers to questions like these will help you preprocess the data and end up with better predictions."
   ]
  },
  {
   "cell_type": "code",
   "execution_count": 26,
   "metadata": {
    "collapsed": false,
    "deletable": true,
    "editable": true
   },
   "outputs": [
    {
     "name": "stdout",
     "output_type": "stream",
     "text": [
      "\n",
      "Stats of batch 1:\n",
      "Samples: 10000\n",
      "Label Counts: {0: 1005, 1: 974, 2: 1032, 3: 1016, 4: 999, 5: 937, 6: 1030, 7: 1001, 8: 1025, 9: 981}\n",
      "First 20 Labels: [6, 9, 9, 4, 1, 1, 2, 7, 8, 3, 4, 7, 7, 2, 9, 9, 9, 3, 2, 6]\n",
      "\n",
      "Example of Image 12:\n",
      "Image - Min Value: 2 Max Value: 251\n",
      "Image - Shape: (32, 32, 3)\n",
      "Label - Label Id: 7 Name: horse\n"
     ]
    },
    {
     "data": {
      "image/png": "[encoded data removed]",
      "text/plain": [
       "<matplotlib.figure.Figure at 0x7ff236e41d30>"
      ]
     },
     "metadata": {
      "image/png": {
       "height": 250,
       "width": 253
      }
     },
     "output_type": "display_data"
    }
   ],
   "source": [
    "%matplotlib inline\n",
    "%config InlineBackend.figure_format = 'retina'\n",
    "\n",
    "import helper\n",
    "import numpy as np\n",
    "\n",
    "# Explore the dataset\n",
    "batch_id = 1\n",
    "sample_id = 12\n",
    "helper.display_stats(cifar10_dataset_folder_path, batch_id, sample_id)"
   ]
  },
  {
   "cell_type": "markdown",
   "metadata": {
    "deletable": true,
    "editable": true
   },
   "source": [
    "## Implement Preprocess Functions\n",
    "### Normalize\n",
    "In the cell below, implement the `normalize` function to take in image data, `x`, and return it as a normalized Numpy array. The values should be in the range of 0 to 1, inclusive.  The return object should be the same shape as `x`."
   ]
  },
  {
   "cell_type": "code",
   "execution_count": 8,
   "metadata": {
    "collapsed": false,
    "deletable": true,
    "editable": true
   },
   "outputs": [
    {
     "name": "stdout",
     "output_type": "stream",
     "text": [
      "Tests Passed\n"
     ]
    }
   ],
   "source": [
    "def normalize(x):\n",
    "    \"\"\"\n",
    "    Normalize a list of sample image data in the range of 0 to 1\n",
    "    : x: List of image data.  The image shape is (32, 32, 3)\n",
    "    : return: Numpy array of normalize data\n",
    "    \"\"\"\n",
    "    # TODO: Implement Function\n",
    "    #print(\"x.shape= \", x.shape)\n",
    "    norm = np.zeros(x.shape, dtype=np.float)\n",
    "    #print(\"norm.shape= \", norm.shape)\n",
    "    num_images = x.shape[0]\n",
    "    #print(\"num images= \", num_images)\n",
    "    for n in range(num_images): # cycle through all images\n",
    "        for h in range(32):\n",
    "            for w in range(32):\n",
    "                for d in range(3):\n",
    "                    norm[n][h][w][d] = x[n][h][w][d] / 255\n",
    "    return norm\n",
    "\n",
    "\n",
    "\"\"\"\n",
    "DON'T MODIFY ANYTHING IN THIS CELL THAT IS BELOW THIS LINE\n",
    "\"\"\"\n",
    "tests.test_normalize(normalize)"
   ]
  },
  {
   "cell_type": "markdown",
   "metadata": {
    "deletable": true,
    "editable": true
   },
   "source": [
    "### One-hot encode\n",
    "Just like the previous code cell, you'll be implementing a function for preprocessing.  This time, you'll implement the `one_hot_encode` function. The input, `x`, are a list of labels.  Implement the function to return the list of labels as One-Hot encoded Numpy array.  The possible values for labels are 0 to 9. The one-hot encoding function should return the same encoding for each value between each call to `one_hot_encode`.  Make sure to save the map of encodings outside the function.\n",
    "\n",
    "Hint: Don't reinvent the wheel."
   ]
  },
  {
   "cell_type": "code",
   "execution_count": 31,
   "metadata": {
    "collapsed": false,
    "deletable": true,
    "editable": true
   },
   "outputs": [
    {
     "name": "stdout",
     "output_type": "stream",
     "text": [
      "Tests Passed\n"
     ]
    }
   ],
   "source": [
    "def one_hot_encode(x):\n",
    "    \"\"\"\n",
    "    One hot encode a list of sample labels. Return a one-hot encoded vector for each label.\n",
    "    : x: List of sample Labels\n",
    "    : return: Numpy array of one-hot encoded labels\n",
    "    \"\"\"\n",
    "    # TODO: Implement Function\n",
    "    #print(x)\n",
    "    num_labels = len(x)\n",
    "    #print(num_labels)\n",
    "    #print(x[:5])\n",
    "    onehot = np.zeros((num_labels, 10), dtype=np.int)\n",
    "    #print(onehot.shape)\n",
    "    for n in range(num_labels):\n",
    "        value = x[n]\n",
    "        onehot[n][value] = 1\n",
    "    #print(onehot[:5])\n",
    "    return onehot\n",
    "\n",
    "\n",
    "\"\"\"\n",
    "DON'T MODIFY ANYTHING IN THIS CELL THAT IS BELOW THIS LINE\n",
    "\"\"\"\n",
    "tests.test_one_hot_encode(one_hot_encode)"
   ]
  },
  {
   "cell_type": "markdown",
   "metadata": {
    "deletable": true,
    "editable": true
   },
   "source": [
    "### Randomize Data\n",
    "As you saw from exploring the data above, the order of the samples are randomized.  It doesn't hurt to randomize it again, but you don't need to for this dataset."
   ]
  },
  {
   "cell_type": "markdown",
   "metadata": {
    "deletable": true,
    "editable": true
   },
   "source": [
    "## Preprocess all the data and save it\n",
    "Running the code cell below will preprocess all the CIFAR-10 data and save it to file. The code below also uses 10% of the training data for validation."
   ]
  },
  {
   "cell_type": "code",
   "execution_count": 32,
   "metadata": {
    "collapsed": false,
    "deletable": true,
    "editable": true
   },
   "outputs": [],
   "source": [
    "\"\"\"\n",
    "DON'T MODIFY ANYTHING IN THIS CELL\n",
    "\"\"\"\n",
    "# Preprocess Training, Validation, and Testing Data\n",
    "helper.preprocess_and_save_data(cifar10_dataset_folder_path, normalize, one_hot_encode)"
   ]
  },
  {
   "cell_type": "markdown",
   "metadata": {
    "deletable": true,
    "editable": true
   },
   "source": [
    "# Check Point\n",
    "This is your first checkpoint.  If you ever decide to come back to this notebook or have to restart the notebook, you can start from here.  The preprocessed data has been saved to disk."
   ]
  },
  {
   "cell_type": "code",
   "execution_count": 1,
   "metadata": {
    "collapsed": true,
    "deletable": true,
    "editable": true
   },
   "outputs": [],
   "source": [
    "\"\"\"\n",
    "DON'T MODIFY ANYTHING IN THIS CELL\n",
    "\"\"\"\n",
    "import pickle\n",
    "import problem_unittests as tests\n",
    "import helper\n",
    "\n",
    "# Load the Preprocessed Validation data\n",
    "valid_features, valid_labels = pickle.load(open('preprocess_validation.p', mode='rb'))"
   ]
  },
  {
   "cell_type": "markdown",
   "metadata": {
    "deletable": true,
    "editable": true
   },
   "source": [
    "## Build the network\n",
    "For the neural network, you'll build each layer into a function.  Most of the code you've seen has been outside of functions. To test your code more thoroughly, we require that you put each layer in a function.  This allows us to give you better feedback and test for simple mistakes using our unittests before you submit your project.\n",
    "\n",
    ">**Note:** If you're finding it hard to dedicate enough time for this course each week, we've provided a small shortcut to this part of the project. In the next couple of problems, you'll have the option to use classes from the [TensorFlow Layers](https://www.tensorflow.org/api_docs/python/tf/layers) or [TensorFlow Layers (contrib)](https://www.tensorflow.org/api_guides/python/contrib.layers) packages to build each layer, except the layers you build in the \"Convolutional and Max Pooling Layer\" section.  TF Layers is similar to Keras's and TFLearn's abstraction to layers, so it's easy to pickup.\n",
    "\n",
    ">However, if you would like to get the most out of this course, try to solve all the problems _without_ using anything from the TF Layers packages. You **can** still use classes from other packages that happen to have the same name as ones you find in TF Layers! For example, instead of using the TF Layers version of the `conv2d` class, [tf.layers.conv2d](https://www.tensorflow.org/api_docs/python/tf/layers/conv2d), you would want to use the TF Neural Network version of `conv2d`, [tf.nn.conv2d](https://www.tensorflow.org/api_docs/python/tf/nn/conv2d). \n",
    "\n",
    "Let's begin!\n",
    "\n",
    "### Input\n",
    "The neural network needs to read the image data, one-hot encoded labels, and dropout keep probability. Implement the following functions\n",
    "* Implement `neural_net_image_input`\n",
    " * Return a [TF Placeholder](https://www.tensorflow.org/api_docs/python/tf/placeholder)\n",
    " * Set the shape using `image_shape` with batch size set to `None`.\n",
    " * Name the TensorFlow placeholder \"x\" using the TensorFlow `name` parameter in the [TF Placeholder](https://www.tensorflow.org/api_docs/python/tf/placeholder).\n",
    "* Implement `neural_net_label_input`\n",
    " * Return a [TF Placeholder](https://www.tensorflow.org/api_docs/python/tf/placeholder)\n",
    " * Set the shape using `n_classes` with batch size set to `None`.\n",
    " * Name the TensorFlow placeholder \"y\" using the TensorFlow `name` parameter in the [TF Placeholder](https://www.tensorflow.org/api_docs/python/tf/placeholder).\n",
    "* Implement `neural_net_keep_prob_input`\n",
    " * Return a [TF Placeholder](https://www.tensorflow.org/api_docs/python/tf/placeholder) for dropout keep probability.\n",
    " * Name the TensorFlow placeholder \"keep_prob\" using the TensorFlow `name` parameter in the [TF Placeholder](https://www.tensorflow.org/api_docs/python/tf/placeholder).\n",
    "\n",
    "These names will be used at the end of the project to load your saved model.\n",
    "\n",
    "Note: `None` for shapes in TensorFlow allow for a dynamic size."
   ]
  },
  {
   "cell_type": "code",
   "execution_count": 2,
   "metadata": {
    "collapsed": false,
    "deletable": true,
    "editable": true
   },
   "outputs": [
    {
     "name": "stdout",
     "output_type": "stream",
     "text": [
      "Image Input Tests Passed.\n",
      "Label Input Tests Passed.\n",
      "Keep Prob Tests Passed.\n"
     ]
    }
   ],
   "source": [
    "import tensorflow as tf\n",
    "\n",
    "def neural_net_image_input(image_shape):\n",
    "    \"\"\"\n",
    "    Return a Tensor for a bach of image input\n",
    "    : image_shape: Shape of the images\n",
    "    : return: Tensor for image input.\n",
    "    \"\"\"\n",
    "    # TODO: Implement Function\n",
    "    #print(image_shape)\n",
    "    #print(image_shape[0])\n",
    "    #print(image_shape[1])\n",
    "    #print(image_shape[2])\n",
    "    return tf.placeholder(tf.float32, [None, image_shape[0], image_shape[1], image_shape[2]], name='x')\n",
    "\n",
    "\n",
    "def neural_net_label_input(n_classes):\n",
    "    \"\"\"\n",
    "    Return a Tensor for a batch of label input\n",
    "    : n_classes: Number of classes\n",
    "    : return: Tensor for label input.\n",
    "    \"\"\"\n",
    "    # TODO: Implement Function\n",
    "    return tf.placeholder(tf.float32, [None, n_classes], name='y')\n",
    "\n",
    "\n",
    "def neural_net_keep_prob_input():\n",
    "    \"\"\"\n",
    "    Return a Tensor for keep probability\n",
    "    : return: Tensor for keep probability.\n",
    "    \"\"\"\n",
    "    # TODO: Implement Function\n",
    "    return tf.placeholder(tf.float32, name='keep_prob')\n",
    "\n",
    "\n",
    "\"\"\"\n",
    "DON'T MODIFY ANYTHING IN THIS CELL THAT IS BELOW THIS LINE\n",
    "\"\"\"\n",
    "tf.reset_default_graph()\n",
    "tests.test_nn_image_inputs(neural_net_image_input)\n",
    "tests.test_nn_label_inputs(neural_net_label_input)\n",
    "tests.test_nn_keep_prob_inputs(neural_net_keep_prob_input)"
   ]
  },
  {
   "cell_type": "markdown",
   "metadata": {
    "deletable": true,
    "editable": true
   },
   "source": [
    "### Convolution and Max Pooling Layer\n",
    "Convolution layers have a lot of success with images. For this code cell, you should implement the function `conv2d_maxpool` to apply convolution then max pooling:\n",
    "* Create the weight and bias using `conv_ksize`, `conv_num_outputs` and the shape of `x_tensor`.\n",
    "* Apply a convolution to `x_tensor` using weight and `conv_strides`.\n",
    " * We recommend you use same padding, but you're welcome to use any padding.\n",
    "* Add bias\n",
    "* Add a nonlinear activation to the convolution.\n",
    "* Apply Max Pooling using `pool_ksize` and `pool_strides`.\n",
    " * We recommend you use same padding, but you're welcome to use any padding.\n",
    "\n",
    "**Note:** You **can't** use [TensorFlow Layers](https://www.tensorflow.org/api_docs/python/tf/layers) or [TensorFlow Layers (contrib)](https://www.tensorflow.org/api_guides/python/contrib.layers) for **this** layer, but you can still use TensorFlow's [Neural Network](https://www.tensorflow.org/api_docs/python/tf/nn) package. You may still use the shortcut option for all the **other** layers."
   ]
  },
  {
   "cell_type": "code",
   "execution_count": 3,
   "metadata": {
    "collapsed": false,
    "deletable": true,
    "editable": true
   },
   "outputs": [
    {
     "name": "stdout",
     "output_type": "stream",
     "text": [
      "Tests Passed\n"
     ]
    }
   ],
   "source": [
    "def conv2d_maxpool(x_tensor, conv_num_outputs, conv_ksize, conv_strides, pool_ksize, pool_strides):\n",
    "    \"\"\"\n",
    "    Apply convolution then max pooling to x_tensor\n",
    "    :param x_tensor: TensorFlow Tensor\n",
    "    :param conv_num_outputs: Number of outputs for the convolutional layer\n",
    "    :param conv_ksize: kernal size 2-D Tuple for the convolutional layer\n",
    "    :param conv_strides: Stride 2-D Tuple for convolution\n",
    "    :param pool_ksize: kernal size 2-D Tuple for pool\n",
    "    :param pool_strides: Stride 2-D Tuple for pool\n",
    "    : return: A tensor that represents convolution and max pooling of x_tensor\n",
    "    \"\"\"\n",
    "    # TODO: Implement Function\n",
    "    # Create the weight and bias using conv_ksize, conv_num_outputs and the shape of x_tensor.\n",
    "    #print(x_tensor.shape) # (?, 32, 32, 5) = (?, height, width, depth)\n",
    "    #print(x_tensor.get_shape().as_list()) # [None, 32, 32, 5]\n",
    "    #print(x_tensor) # Tensor(\"Placeholder_7:0\", shape=(?, 32, 32, 5), dtype=float32)\n",
    "    input_depth = int(x_tensor.get_shape().as_list()[3]) # dimension class objects need to be cast to int\n",
    "    #print(\"input_depth= \", input_depth) # 5\n",
    "    #print(conv_ksize) # (2, 2)\n",
    "    filter_height = int(conv_ksize[0]) # dimension class objects need to be cast to int\n",
    "    filter_width = int(conv_ksize[1]) # dimension class objects need to be cast to int\n",
    "    #print(\"filter_height= \", filter_height) # 2\n",
    "    #print(\"filter_width= \", filter_width) # 2\n",
    "    #print(\"conv_num_output= \", conv_num_outputs) # 10\n",
    "    weights = tf.Variable(tf.truncated_normal([filter_height, filter_width, input_depth, conv_num_outputs], stddev=0.1))\n",
    "    bias = tf.Variable(tf.zeros(conv_num_outputs))\n",
    "    \n",
    "    # Apply a convolution to x_tensor using weight and conv_strides.\n",
    "    #    We recommend you use same padding, but you're welcome to use any padding.\n",
    "    #print(conv_strides) # (4, 4)\n",
    "    x = tf.nn.conv2d(x_tensor, weights, strides=[1, conv_strides[0], conv_strides[1], 1], padding='SAME')\n",
    "    # Add bias\n",
    "    x = tf.nn.bias_add(x, bias)\n",
    "    # Add a nonlinear activation to the convolution.\n",
    "    x = tf.nn.relu(x)\n",
    "    \n",
    "    # Apply Max Pooling using pool_ksize and pool_strides.\n",
    "    #    We recommend you use same padding, but you're welcome to use any padding.\n",
    "    #print(\"pool_ksize= \", pool_ksize) # (2, 2)\n",
    "    #print(\"pool_strides= \",pool_strides) # (2, 2)\n",
    "    x = tf.nn.max_pool(x, ksize=[1, pool_ksize[0], pool_ksize[1], 1], \n",
    "                       strides=[1, pool_strides[0], pool_strides[1], 1], padding='SAME')\n",
    "    \n",
    "    return x \n",
    "\n",
    "\n",
    "\"\"\"\n",
    "DON'T MODIFY ANYTHING IN THIS CELL THAT IS BELOW THIS LINE\n",
    "\"\"\"\n",
    "tests.test_con_pool(conv2d_maxpool)"
   ]
  },
  {
   "cell_type": "markdown",
   "metadata": {
    "deletable": true,
    "editable": true
   },
   "source": [
    "### Flatten Layer\n",
    "Implement the `flatten` function to change the dimension of `x_tensor` from a 4-D tensor to a 2-D tensor.  The output should be the shape (*Batch Size*, *Flattened Image Size*). Shortcut option: you can use classes from the [TensorFlow Layers](https://www.tensorflow.org/api_docs/python/tf/layers) or [TensorFlow Layers (contrib)](https://www.tensorflow.org/api_guides/python/contrib.layers) packages for this layer. For more of a challenge, only use other TensorFlow packages."
   ]
  },
  {
   "cell_type": "code",
   "execution_count": 4,
   "metadata": {
    "collapsed": false,
    "deletable": true,
    "editable": true
   },
   "outputs": [
    {
     "name": "stdout",
     "output_type": "stream",
     "text": [
      "Tests Passed\n"
     ]
    }
   ],
   "source": [
    "def flatten(x_tensor):\n",
    "    \"\"\"\n",
    "    Flatten x_tensor to (Batch Size, Flattened Image Size)\n",
    "    : x_tensor: A tensor of size (Batch Size, ...), where ... are the image dimensions.\n",
    "    : return: A tensor of size (Batch Size, Flattened Image Size).\n",
    "    \"\"\"\n",
    "    # TODO: Implement Function\n",
    "    # http://stackoverflow.com/a/37477055/852795\n",
    "    #print(x_tensor) # Tensor(\"Placeholder_4:0\", shape=(?, 10, 30, 6), dtype=float32)\n",
    "    shape = x_tensor.get_shape().as_list()\n",
    "    #print(\"shape= \", shape)\n",
    "    dim = shape[1] * shape[2] * shape[3]\n",
    "    #print(\"dim= \", dim)\n",
    "    return tf.reshape(x_tensor, [-1, dim])\n",
    "\n",
    "\n",
    "\"\"\"\n",
    "DON'T MODIFY ANYTHING IN THIS CELL THAT IS BELOW THIS LINE\n",
    "\"\"\"\n",
    "tests.test_flatten(flatten)"
   ]
  },
  {
   "cell_type": "markdown",
   "metadata": {
    "deletable": true,
    "editable": true
   },
   "source": [
    "### Fully-Connected Layer\n",
    "Implement the `fully_conn` function to apply a fully connected layer to `x_tensor` with the shape (*Batch Size*, *num_outputs*). Shortcut option: you can use classes from the [TensorFlow Layers](https://www.tensorflow.org/api_docs/python/tf/layers) or [TensorFlow Layers (contrib)](https://www.tensorflow.org/api_guides/python/contrib.layers) packages for this layer. For more of a challenge, only use other TensorFlow packages."
   ]
  },
  {
   "cell_type": "code",
   "execution_count": 5,
   "metadata": {
    "collapsed": false,
    "deletable": true,
    "editable": true
   },
   "outputs": [
    {
     "name": "stdout",
     "output_type": "stream",
     "text": [
      "Tests Passed\n"
     ]
    }
   ],
   "source": [
    "def fully_conn(x_tensor, num_outputs):\n",
    "    \"\"\"\n",
    "    Apply a fully connected layer to x_tensor using weight and bias\n",
    "    : x_tensor: A 2-D tensor where the first dimension is batch size.\n",
    "    : num_outputs: The number of output that the new tensor should be.\n",
    "    : return: A 2-D tensor where the second dimension is num_outputs.\n",
    "    \"\"\"\n",
    "    # TODO: Implement Function\n",
    "    #print(x_tensor) # Tensor(\"Placeholder_19:0\", shape=(?, 128), dtype=float32)\n",
    "    num_inputs = int(x_tensor.get_shape().as_list()[1]) # dimension class objects need to be cast to int\n",
    "    #print(num_outputs) # 40\n",
    "    weights = tf.Variable(tf.truncated_normal([num_inputs, num_outputs], stddev=0.1))\n",
    "    biases = tf.Variable(tf.truncated_normal([num_outputs], stddev=0.1))\n",
    "    \n",
    "    fc = tf.reshape(x_tensor, [-1, weights.get_shape().as_list()[0]])\n",
    "    fc = tf.add(tf.matmul(fc, weights), biases)\n",
    "    fc = tf.nn.relu(fc)\n",
    "    #fc = tf.nn.dropout(fc, dropout)\n",
    "    return fc\n",
    "\n",
    "\n",
    "\"\"\"\n",
    "DON'T MODIFY ANYTHING IN THIS CELL THAT IS BELOW THIS LINE\n",
    "\"\"\"\n",
    "tests.test_fully_conn(fully_conn)"
   ]
  },
  {
   "cell_type": "markdown",
   "metadata": {
    "deletable": true,
    "editable": true
   },
   "source": [
    "### Output Layer\n",
    "Implement the `output` function to apply a fully connected layer to `x_tensor` with the shape (*Batch Size*, *num_outputs*). Shortcut option: you can use classes from the [TensorFlow Layers](https://www.tensorflow.org/api_docs/python/tf/layers) or [TensorFlow Layers (contrib)](https://www.tensorflow.org/api_guides/python/contrib.layers) packages for this layer. For more of a challenge, only use other TensorFlow packages.\n",
    "\n",
    "**Note:** Activation, softmax, or cross entropy should **not** be applied to this."
   ]
  },
  {
   "cell_type": "code",
   "execution_count": 6,
   "metadata": {
    "collapsed": false,
    "deletable": true,
    "editable": true
   },
   "outputs": [
    {
     "name": "stdout",
     "output_type": "stream",
     "text": [
      "Tests Passed\n"
     ]
    }
   ],
   "source": [
    "def output(x_tensor, num_outputs):\n",
    "    \"\"\"\n",
    "    Apply a output layer to x_tensor using weight and bias\n",
    "    : x_tensor: A 2-D tensor where the first dimension is batch size.\n",
    "    : num_outputs: The number of output that the new tensor should be.\n",
    "    : return: A 2-D tensor where the second dimension is num_outputs.\n",
    "    \"\"\"\n",
    "    # TODO: Implement Function\n",
    "    #print(x_tensor) # Tensor(\"Placeholder_7:0\", shape=(?, 128), dtype=float32)\n",
    "    num_inputs = int(x_tensor.get_shape().as_list()[1]) # dimension class objects need to be cast to int\n",
    "    #print(num_outputs) # 40    \n",
    "    weights = tf.Variable(tf.truncated_normal([num_inputs, num_outputs], stddev=0.1))\n",
    "    biases = tf.Variable(tf.truncated_normal([num_outputs], stddev=0.1))\n",
    "    \n",
    "    out = tf.add(tf.matmul(x_tensor, weights), biases)\n",
    "    return out\n",
    "\n",
    "\n",
    "\"\"\"\n",
    "DON'T MODIFY ANYTHING IN THIS CELL THAT IS BELOW THIS LINE\n",
    "\"\"\"\n",
    "tests.test_output(output)"
   ]
  },
  {
   "cell_type": "markdown",
   "metadata": {
    "deletable": true,
    "editable": true
   },
   "source": [
    "### Create Convolutional Model\n",
    "Implement the function `conv_net` to create a convolutional neural network model. The function takes in a batch of images, `x`, and outputs logits.  Use the layers you created above to create this model:\n",
    "\n",
    "* Apply 1, 2, or 3 Convolution and Max Pool layers\n",
    "* Apply a Flatten Layer\n",
    "* Apply 1, 2, or 3 Fully Connected Layers\n",
    "* Apply an Output Layer\n",
    "* Return the output\n",
    "* Apply [TensorFlow's Dropout](https://www.tensorflow.org/api_docs/python/tf/nn/dropout) to one or more layers in the model using `keep_prob`. "
   ]
  },
  {
   "cell_type": "code",
   "execution_count": 14,
   "metadata": {
    "collapsed": false,
    "deletable": true,
    "editable": true
   },
   "outputs": [
    {
     "name": "stdout",
     "output_type": "stream",
     "text": [
      "Neural Network Built!\n"
     ]
    }
   ],
   "source": [
    "def conv_net(x, keep_prob):\n",
    "    \"\"\"\n",
    "    Create a convolutional neural network model\n",
    "    : x: Placeholder tensor that holds image data.\n",
    "    : keep_prob: Placeholder tensor that hold dropout keep probability.\n",
    "    : return: Tensor that represents logits\n",
    "    \"\"\"\n",
    "    # TODO: Apply 1, 2, or 3 Convolution and Max Pool layers\n",
    "    #    Play around with different number of outputs, kernel size and stride\n",
    "    \"\"\"\n",
    "    Apply convolution then max pooling to x_tensor\n",
    "    :param x_tensor: TensorFlow Tensor # (?, 32, 32, 5)\n",
    "    :param conv_num_outputs: Number of outputs for the convolutional layer # 10\n",
    "    :param conv_ksize: kernal size 2-D Tuple for the convolutional layer # (2, 2)\n",
    "    :param conv_strides: Stride 2-D Tuple for convolution # (4, 4)\n",
    "    :param pool_ksize: kernal size 2-D Tuple for pool # (2, 2)\n",
    "    :param pool_strides: Stride 2-D Tuple for pool # (2, 2)\n",
    "    : return: A tensor that represents convolution and max pooling of x_tensor\n",
    "    \"\"\"\n",
    "    # Function Definition from Above:\n",
    "    #    conv2d_maxpool(x_tensor, conv_num_outputs, conv_ksize, conv_strides, pool_ksize, pool_strides)\n",
    "    # Single layer attempt:\n",
    "    #con1 = conv2d_maxpool(x,   10,  [2, 2], [4, 4], [2, 2], [2, 2])\n",
    "    \n",
    "    # Double layer attempt:\n",
    "    # 2x2 patch striding 1 = (32-2+2)/1 + 1 = 33x33x16 output\n",
    "    con1 = conv2d_maxpool(x,   16,  [2, 2], [1, 1], [1, 1], [1, 1])\n",
    "    con1 = tf.nn.dropout(con1, keep_prob)\n",
    "    \n",
    "    # 4x4 patch striding 2 = 32x32x32 striding 2 = 16x16x32\n",
    "    # maxpool 2x2 striding 2 = (16-2)/2 = 9x9x32 outpout\n",
    "    con2 = conv2d_maxpool(con1, 32,  [4, 4], [2, 2], [2, 2], [2, 2])\n",
    "    con2 = tf.nn.dropout(con2, keep_prob)\n",
    "\n",
    "    # TODO: Apply a Flatten Layer\n",
    "    # Function Definition from Above:\n",
    "    #   flatten(x_tensor)\n",
    "    flat = flatten(con2)\n",
    "\n",
    "    # TODO: Apply 1, 2, or 3 Fully Connected Layers\n",
    "    #    Play around with different number of outputs\n",
    "    # Function Definition from Above:\n",
    "    #   fully_conn(x_tensor, num_outputs)\n",
    "    fc1 = fully_conn(flat, 100)\n",
    "    fc1 = tf.nn.dropout(fc1, keep_prob)\n",
    "    \n",
    "    # TODO: Apply an Output Layer\n",
    "    #    Set this to the number of classes\n",
    "    # Function Definition from Above:\n",
    "    #   output(x_tensor, num_outputs)\n",
    "    out = output(fc1, 10)\n",
    "    \n",
    "    # TODO: return output\n",
    "    return out\n",
    "\n",
    "\n",
    "\"\"\"\n",
    "DON'T MODIFY ANYTHING IN THIS CELL THAT IS BELOW THIS LINE\n",
    "\"\"\"\n",
    "\n",
    "##############################\n",
    "## Build the Neural Network ##\n",
    "##############################\n",
    "\n",
    "# Remove previous weights, bias, inputs, etc..\n",
    "tf.reset_default_graph()\n",
    "\n",
    "# Inputs\n",
    "x = neural_net_image_input((32, 32, 3))\n",
    "y = neural_net_label_input(10)\n",
    "keep_prob = neural_net_keep_prob_input()\n",
    "\n",
    "# Model\n",
    "logits = conv_net(x, keep_prob)\n",
    "\n",
    "# Name logits Tensor, so that is can be loaded from disk after training\n",
    "logits = tf.identity(logits, name='logits')\n",
    "\n",
    "# Loss and Optimizer\n",
    "cost = tf.reduce_mean(tf.nn.softmax_cross_entropy_with_logits(logits=logits, labels=y))\n",
    "optimizer = tf.train.AdamOptimizer().minimize(cost)\n",
    "\n",
    "# Accuracy\n",
    "correct_pred = tf.equal(tf.argmax(logits, 1), tf.argmax(y, 1))\n",
    "accuracy = tf.reduce_mean(tf.cast(correct_pred, tf.float32), name='accuracy')\n",
    "\n",
    "tests.test_conv_net(conv_net)"
   ]
  },
  {
   "cell_type": "markdown",
   "metadata": {
    "deletable": true,
    "editable": true
   },
   "source": [
    "## Train the Neural Network\n",
    "### Single Optimization\n",
    "Implement the function `train_neural_network` to do a single optimization.  The optimization should use `optimizer` to optimize in `session` with a `feed_dict` of the following:\n",
    "* `x` for image input\n",
    "* `y` for labels\n",
    "* `keep_prob` for keep probability for dropout\n",
    "\n",
    "This function will be called for each batch, so `tf.global_variables_initializer()` has already been called.\n",
    "\n",
    "Note: Nothing needs to be returned. This function is only optimizing the neural network."
   ]
  },
  {
   "cell_type": "code",
   "execution_count": 8,
   "metadata": {
    "collapsed": false,
    "deletable": true,
    "editable": true
   },
   "outputs": [
    {
     "name": "stdout",
     "output_type": "stream",
     "text": [
      "Tests Passed\n"
     ]
    }
   ],
   "source": [
    "def train_neural_network(session, optimizer, keep_probability, feature_batch, label_batch):\n",
    "    \"\"\"\n",
    "    Optimize the session on a batch of images and labels\n",
    "    : session: Current TensorFlow session\n",
    "    : optimizer: TensorFlow optimizer function\n",
    "    : keep_probability: keep probability\n",
    "    : feature_batch: Batch of Numpy image data\n",
    "    : label_batch: Batch of Numpy label data\n",
    "    \"\"\"\n",
    "    # TODO: Implement Function\n",
    "    session.run(optimizer, feed_dict={x: feature_batch, y: label_batch, keep_prob: keep_probability})    \n",
    "\n",
    "\n",
    "\"\"\"\n",
    "DON'T MODIFY ANYTHING IN THIS CELL THAT IS BELOW THIS LINE\n",
    "\"\"\"\n",
    "tests.test_train_nn(train_neural_network)"
   ]
  },
  {
   "cell_type": "markdown",
   "metadata": {
    "deletable": true,
    "editable": true
   },
   "source": [
    "### Show Stats\n",
    "Implement the function `print_stats` to print loss and validation accuracy.  Use the global variables `valid_features` and `valid_labels` to calculate validation accuracy.  Use a keep probability of `1.0` to calculate the loss and validation accuracy."
   ]
  },
  {
   "cell_type": "code",
   "execution_count": 9,
   "metadata": {
    "collapsed": false,
    "deletable": true,
    "editable": true
   },
   "outputs": [],
   "source": [
    "def print_stats(session, feature_batch, label_batch, cost, accuracy):\n",
    "    \"\"\"\n",
    "    Print information about loss and validation accuracy\n",
    "    : session: Current TensorFlow session\n",
    "    : feature_batch: Batch of Numpy image data\n",
    "    : label_batch: Batch of Numpy label data\n",
    "    : cost: TensorFlow cost function\n",
    "    : accuracy: TensorFlow accuracy function\n",
    "    \"\"\"\n",
    "    # TODO: Implement Function\n",
    "    loss = sess.run(cost, feed_dict={x: feature_batch, y: label_batch, keep_prob: 1.0})\n",
    "    valid_acc = sess.run(accuracy, feed_dict={x: valid_features, y: valid_labels, keep_prob: 1.0})\n",
    "\n",
    "    print('    Loss: {:>10.4f}, Validation Accuracy: {:.6f}'.format(loss, valid_acc))"
   ]
  },
  {
   "cell_type": "markdown",
   "metadata": {
    "deletable": true,
    "editable": true
   },
   "source": [
    "### Hyperparameters\n",
    "Tune the following parameters:\n",
    "* Set `epochs` to the number of iterations until the network stops learning or start overfitting\n",
    "* Set `batch_size` to the highest number that your machine has memory for.  Most people set them to common sizes of memory:\n",
    " * 64\n",
    " * 128\n",
    " * 256\n",
    " * ...\n",
    "* Set `keep_probability` to the probability of keeping a node using dropout"
   ]
  },
  {
   "cell_type": "code",
   "execution_count": 15,
   "metadata": {
    "collapsed": true,
    "deletable": true,
    "editable": true
   },
   "outputs": [],
   "source": [
    "# TODO: Tune Parameters\n",
    "epochs = 50\n",
    "batch_size = 256\n",
    "keep_probability = 0.5"
   ]
  },
  {
   "cell_type": "markdown",
   "metadata": {
    "deletable": true,
    "editable": true
   },
   "source": [
    "### Train on a Single CIFAR-10 Batch\n",
    "Instead of training the neural network on all the CIFAR-10 batches of data, let's use a single batch. This should save time while you iterate on the model to get a better accuracy.  Once the final validation accuracy is 50% or greater, run the model on all the data in the next section."
   ]
  },
  {
   "cell_type": "code",
   "execution_count": 13,
   "metadata": {
    "collapsed": false,
    "deletable": true,
    "editable": true,
    "scrolled": true
   },
   "outputs": [
    {
     "name": "stdout",
     "output_type": "stream",
     "text": [
      "Checking the Training on a Single Batch...\n",
      "Epoch  1, CIFAR-10 Batch 1:      Loss:     2.2335, Validation Accuracy: 0.187600\n",
      "Epoch  2, CIFAR-10 Batch 1:      Loss:     2.0901, Validation Accuracy: 0.279200\n",
      "Epoch  3, CIFAR-10 Batch 1:      Loss:     1.9680, Validation Accuracy: 0.328400\n",
      "Epoch  4, CIFAR-10 Batch 1:      Loss:     1.8795, Validation Accuracy: 0.361800\n",
      "Epoch  5, CIFAR-10 Batch 1:      Loss:     1.8033, Validation Accuracy: 0.374800\n",
      "Epoch  6, CIFAR-10 Batch 1:      Loss:     1.7459, Validation Accuracy: 0.397600\n",
      "Epoch  7, CIFAR-10 Batch 1:      Loss:     1.7131, Validation Accuracy: 0.398600\n",
      "Epoch  8, CIFAR-10 Batch 1:      Loss:     1.6445, Validation Accuracy: 0.408600\n",
      "Epoch  9, CIFAR-10 Batch 1:      Loss:     1.6088, Validation Accuracy: 0.419400\n",
      "Epoch 10, CIFAR-10 Batch 1:      Loss:     1.5677, Validation Accuracy: 0.434800\n",
      "Epoch 11, CIFAR-10 Batch 1:      Loss:     1.5446, Validation Accuracy: 0.434400\n",
      "Epoch 12, CIFAR-10 Batch 1:      Loss:     1.5091, Validation Accuracy: 0.452800\n",
      "Epoch 13, CIFAR-10 Batch 1:      Loss:     1.4835, Validation Accuracy: 0.447800\n",
      "Epoch 14, CIFAR-10 Batch 1:      Loss:     1.4528, Validation Accuracy: 0.469000\n",
      "Epoch 15, CIFAR-10 Batch 1:      Loss:     1.4000, Validation Accuracy: 0.466400\n",
      "Epoch 16, CIFAR-10 Batch 1:      Loss:     1.3766, Validation Accuracy: 0.469000\n",
      "Epoch 17, CIFAR-10 Batch 1:      Loss:     1.3477, Validation Accuracy: 0.468800\n",
      "Epoch 18, CIFAR-10 Batch 1:      Loss:     1.3240, Validation Accuracy: 0.487000\n",
      "Epoch 19, CIFAR-10 Batch 1:      Loss:     1.2967, Validation Accuracy: 0.484800\n",
      "Epoch 20, CIFAR-10 Batch 1:      Loss:     1.2516, Validation Accuracy: 0.492600\n"
     ]
    }
   ],
   "source": [
    "\"\"\"\n",
    "DON'T MODIFY ANYTHING IN THIS CELL\n",
    "\"\"\"\n",
    "print('Checking the Training on a Single Batch...')\n",
    "with tf.Session() as sess:\n",
    "    # Initializing the variables\n",
    "    sess.run(tf.global_variables_initializer())\n",
    "    \n",
    "    # Training cycle\n",
    "    for epoch in range(epochs):\n",
    "        batch_i = 1\n",
    "        for batch_features, batch_labels in helper.load_preprocess_training_batch(batch_i, batch_size):\n",
    "            train_neural_network(sess, optimizer, keep_probability, batch_features, batch_labels)\n",
    "        print('Epoch {:>2}, CIFAR-10 Batch {}:  '.format(epoch + 1, batch_i), end='')\n",
    "        print_stats(sess, batch_features, batch_labels, cost, accuracy)"
   ]
  },
  {
   "cell_type": "markdown",
   "metadata": {
    "deletable": true,
    "editable": true
   },
   "source": [
    "### Fully Train the Model\n",
    "Now that you got a good accuracy with a single CIFAR-10 batch, try it with all five batches."
   ]
  },
  {
   "cell_type": "code",
   "execution_count": 16,
   "metadata": {
    "collapsed": false,
    "deletable": true,
    "editable": true
   },
   "outputs": [
    {
     "name": "stdout",
     "output_type": "stream",
     "text": [
      "Training...\n",
      "Epoch  1, CIFAR-10 Batch 1:      Loss:     2.2557, Validation Accuracy: 0.201000\n",
      "Epoch  1, CIFAR-10 Batch 2:      Loss:     2.1626, Validation Accuracy: 0.257800\n",
      "Epoch  1, CIFAR-10 Batch 3:      Loss:     1.9157, Validation Accuracy: 0.303800\n",
      "Epoch  1, CIFAR-10 Batch 4:      Loss:     1.8973, Validation Accuracy: 0.334800\n",
      "Epoch  1, CIFAR-10 Batch 5:      Loss:     1.9039, Validation Accuracy: 0.339400\n",
      "Epoch  2, CIFAR-10 Batch 1:      Loss:     1.9058, Validation Accuracy: 0.372000\n",
      "Epoch  2, CIFAR-10 Batch 2:      Loss:     1.7656, Validation Accuracy: 0.386600\n",
      "Epoch  2, CIFAR-10 Batch 3:      Loss:     1.6102, Validation Accuracy: 0.395400\n",
      "Epoch  2, CIFAR-10 Batch 4:      Loss:     1.6778, Validation Accuracy: 0.409600\n",
      "Epoch  2, CIFAR-10 Batch 5:      Loss:     1.6771, Validation Accuracy: 0.415600\n",
      "Epoch  3, CIFAR-10 Batch 1:      Loss:     1.7592, Validation Accuracy: 0.415000\n",
      "Epoch  3, CIFAR-10 Batch 2:      Loss:     1.5553, Validation Accuracy: 0.436000\n",
      "Epoch  3, CIFAR-10 Batch 3:      Loss:     1.4154, Validation Accuracy: 0.442600\n",
      "Epoch  3, CIFAR-10 Batch 4:      Loss:     1.5243, Validation Accuracy: 0.450600\n",
      "Epoch  3, CIFAR-10 Batch 5:      Loss:     1.5503, Validation Accuracy: 0.440200\n",
      "Epoch  4, CIFAR-10 Batch 1:      Loss:     1.6277, Validation Accuracy: 0.452800\n",
      "Epoch  4, CIFAR-10 Batch 2:      Loss:     1.4706, Validation Accuracy: 0.461200\n",
      "Epoch  4, CIFAR-10 Batch 3:      Loss:     1.3276, Validation Accuracy: 0.462000\n",
      "Epoch  4, CIFAR-10 Batch 4:      Loss:     1.4288, Validation Accuracy: 0.474400\n",
      "Epoch  4, CIFAR-10 Batch 5:      Loss:     1.4504, Validation Accuracy: 0.470200\n",
      "Epoch  5, CIFAR-10 Batch 1:      Loss:     1.5518, Validation Accuracy: 0.476200\n",
      "Epoch  5, CIFAR-10 Batch 2:      Loss:     1.3616, Validation Accuracy: 0.489400\n",
      "Epoch  5, CIFAR-10 Batch 3:      Loss:     1.2179, Validation Accuracy: 0.489600\n",
      "Epoch  5, CIFAR-10 Batch 4:      Loss:     1.3270, Validation Accuracy: 0.494600\n",
      "Epoch  5, CIFAR-10 Batch 5:      Loss:     1.3893, Validation Accuracy: 0.493200\n",
      "Epoch  6, CIFAR-10 Batch 1:      Loss:     1.4710, Validation Accuracy: 0.500600\n",
      "Epoch  6, CIFAR-10 Batch 2:      Loss:     1.2967, Validation Accuracy: 0.505400\n",
      "Epoch  6, CIFAR-10 Batch 3:      Loss:     1.1716, Validation Accuracy: 0.507600\n",
      "Epoch  6, CIFAR-10 Batch 4:      Loss:     1.2814, Validation Accuracy: 0.522400\n",
      "Epoch  6, CIFAR-10 Batch 5:      Loss:     1.3256, Validation Accuracy: 0.511800\n",
      "Epoch  7, CIFAR-10 Batch 1:      Loss:     1.3675, Validation Accuracy: 0.525000\n",
      "Epoch  7, CIFAR-10 Batch 2:      Loss:     1.2107, Validation Accuracy: 0.525200\n",
      "Epoch  7, CIFAR-10 Batch 3:      Loss:     1.1170, Validation Accuracy: 0.529600\n",
      "Epoch  7, CIFAR-10 Batch 4:      Loss:     1.2515, Validation Accuracy: 0.535400\n",
      "Epoch  7, CIFAR-10 Batch 5:      Loss:     1.2782, Validation Accuracy: 0.521600\n",
      "Epoch  8, CIFAR-10 Batch 1:      Loss:     1.3301, Validation Accuracy: 0.533400\n",
      "Epoch  8, CIFAR-10 Batch 2:      Loss:     1.1456, Validation Accuracy: 0.538800\n",
      "Epoch  8, CIFAR-10 Batch 3:      Loss:     1.0403, Validation Accuracy: 0.535200\n",
      "Epoch  8, CIFAR-10 Batch 4:      Loss:     1.1780, Validation Accuracy: 0.547200\n",
      "Epoch  8, CIFAR-10 Batch 5:      Loss:     1.2239, Validation Accuracy: 0.539200\n",
      "Epoch  9, CIFAR-10 Batch 1:      Loss:     1.2890, Validation Accuracy: 0.551600\n",
      "Epoch  9, CIFAR-10 Batch 2:      Loss:     1.0865, Validation Accuracy: 0.547400\n",
      "Epoch  9, CIFAR-10 Batch 3:      Loss:     0.9745, Validation Accuracy: 0.546200\n",
      "Epoch  9, CIFAR-10 Batch 4:      Loss:     1.1449, Validation Accuracy: 0.555600\n",
      "Epoch  9, CIFAR-10 Batch 5:      Loss:     1.1971, Validation Accuracy: 0.551000\n",
      "Epoch 10, CIFAR-10 Batch 1:      Loss:     1.2075, Validation Accuracy: 0.559000\n",
      "Epoch 10, CIFAR-10 Batch 2:      Loss:     1.0382, Validation Accuracy: 0.548800\n",
      "Epoch 10, CIFAR-10 Batch 3:      Loss:     0.9300, Validation Accuracy: 0.555800\n",
      "Epoch 10, CIFAR-10 Batch 4:      Loss:     1.1068, Validation Accuracy: 0.569200\n",
      "Epoch 10, CIFAR-10 Batch 5:      Loss:     1.1494, Validation Accuracy: 0.554600\n",
      "Epoch 11, CIFAR-10 Batch 1:      Loss:     1.1746, Validation Accuracy: 0.566200\n",
      "Epoch 11, CIFAR-10 Batch 2:      Loss:     1.0111, Validation Accuracy: 0.563200\n",
      "Epoch 11, CIFAR-10 Batch 3:      Loss:     0.9126, Validation Accuracy: 0.567800\n",
      "Epoch 11, CIFAR-10 Batch 4:      Loss:     1.1033, Validation Accuracy: 0.575000\n",
      "Epoch 11, CIFAR-10 Batch 5:      Loss:     1.1222, Validation Accuracy: 0.567200\n",
      "Epoch 12, CIFAR-10 Batch 1:      Loss:     1.1279, Validation Accuracy: 0.574800\n",
      "Epoch 12, CIFAR-10 Batch 2:      Loss:     0.9853, Validation Accuracy: 0.575200\n",
      "Epoch 12, CIFAR-10 Batch 3:      Loss:     0.8740, Validation Accuracy: 0.576200\n",
      "Epoch 12, CIFAR-10 Batch 4:      Loss:     1.0633, Validation Accuracy: 0.587200\n",
      "Epoch 12, CIFAR-10 Batch 5:      Loss:     1.0676, Validation Accuracy: 0.577600\n",
      "Epoch 13, CIFAR-10 Batch 1:      Loss:     1.0856, Validation Accuracy: 0.586200\n",
      "Epoch 13, CIFAR-10 Batch 2:      Loss:     0.9473, Validation Accuracy: 0.586000\n",
      "Epoch 13, CIFAR-10 Batch 3:      Loss:     0.8436, Validation Accuracy: 0.584200\n",
      "Epoch 13, CIFAR-10 Batch 4:      Loss:     1.0260, Validation Accuracy: 0.590600\n",
      "Epoch 13, CIFAR-10 Batch 5:      Loss:     1.0431, Validation Accuracy: 0.588000\n",
      "Epoch 14, CIFAR-10 Batch 1:      Loss:     1.0710, Validation Accuracy: 0.588800\n",
      "Epoch 14, CIFAR-10 Batch 2:      Loss:     0.9127, Validation Accuracy: 0.591800\n",
      "Epoch 14, CIFAR-10 Batch 3:      Loss:     0.8050, Validation Accuracy: 0.593200\n",
      "Epoch 14, CIFAR-10 Batch 4:      Loss:     1.0002, Validation Accuracy: 0.594200\n",
      "Epoch 14, CIFAR-10 Batch 5:      Loss:     0.9936, Validation Accuracy: 0.595000\n",
      "Epoch 15, CIFAR-10 Batch 1:      Loss:     1.0249, Validation Accuracy: 0.605800\n",
      "Epoch 15, CIFAR-10 Batch 2:      Loss:     0.9123, Validation Accuracy: 0.594400\n",
      "Epoch 15, CIFAR-10 Batch 3:      Loss:     0.7972, Validation Accuracy: 0.599400\n",
      "Epoch 15, CIFAR-10 Batch 4:      Loss:     0.9514, Validation Accuracy: 0.610600\n",
      "Epoch 15, CIFAR-10 Batch 5:      Loss:     0.9690, Validation Accuracy: 0.593400\n",
      "Epoch 16, CIFAR-10 Batch 1:      Loss:     0.9819, Validation Accuracy: 0.606200\n",
      "Epoch 16, CIFAR-10 Batch 2:      Loss:     0.8687, Validation Accuracy: 0.607200\n",
      "Epoch 16, CIFAR-10 Batch 3:      Loss:     0.7523, Validation Accuracy: 0.602600\n",
      "Epoch 16, CIFAR-10 Batch 4:      Loss:     0.9191, Validation Accuracy: 0.610400\n",
      "Epoch 16, CIFAR-10 Batch 5:      Loss:     0.9595, Validation Accuracy: 0.602800\n",
      "Epoch 17, CIFAR-10 Batch 1:      Loss:     0.9646, Validation Accuracy: 0.610600\n",
      "Epoch 17, CIFAR-10 Batch 2:      Loss:     0.8736, Validation Accuracy: 0.604000\n",
      "Epoch 17, CIFAR-10 Batch 3:      Loss:     0.7295, Validation Accuracy: 0.611800\n",
      "Epoch 17, CIFAR-10 Batch 4:      Loss:     0.8896, Validation Accuracy: 0.615000\n",
      "Epoch 17, CIFAR-10 Batch 5:      Loss:     0.9402, Validation Accuracy: 0.606000\n",
      "Epoch 18, CIFAR-10 Batch 1:      Loss:     0.9403, Validation Accuracy: 0.612000\n",
      "Epoch 18, CIFAR-10 Batch 2:      Loss:     0.8743, Validation Accuracy: 0.619600\n",
      "Epoch 18, CIFAR-10 Batch 3:      Loss:     0.7193, Validation Accuracy: 0.616200\n",
      "Epoch 18, CIFAR-10 Batch 4:      Loss:     0.8799, Validation Accuracy: 0.622200\n",
      "Epoch 18, CIFAR-10 Batch 5:      Loss:     0.9334, Validation Accuracy: 0.608600\n",
      "Epoch 19, CIFAR-10 Batch 1:      Loss:     0.9044, Validation Accuracy: 0.621000\n",
      "Epoch 19, CIFAR-10 Batch 2:      Loss:     0.8249, Validation Accuracy: 0.623400\n",
      "Epoch 19, CIFAR-10 Batch 3:      Loss:     0.6809, Validation Accuracy: 0.624600\n",
      "Epoch 19, CIFAR-10 Batch 4:      Loss:     0.8300, Validation Accuracy: 0.631200\n",
      "Epoch 19, CIFAR-10 Batch 5:      Loss:     0.8838, Validation Accuracy: 0.617800\n",
      "Epoch 20, CIFAR-10 Batch 1:      Loss:     0.8845, Validation Accuracy: 0.626600\n",
      "Epoch 20, CIFAR-10 Batch 2:      Loss:     0.7955, Validation Accuracy: 0.627600\n",
      "Epoch 20, CIFAR-10 Batch 3:      Loss:     0.6626, Validation Accuracy: 0.625000\n",
      "Epoch 20, CIFAR-10 Batch 4:      Loss:     0.7965, Validation Accuracy: 0.631000\n",
      "Epoch 20, CIFAR-10 Batch 5:      Loss:     0.8457, Validation Accuracy: 0.631200\n",
      "Epoch 21, CIFAR-10 Batch 1:      Loss:     0.8908, Validation Accuracy: 0.631400\n",
      "Epoch 21, CIFAR-10 Batch 2:      Loss:     0.7980, Validation Accuracy: 0.629000\n",
      "Epoch 21, CIFAR-10 Batch 3:      Loss:     0.6539, Validation Accuracy: 0.625600\n",
      "Epoch 21, CIFAR-10 Batch 4:      Loss:     0.7888, Validation Accuracy: 0.641200\n",
      "Epoch 21, CIFAR-10 Batch 5:      Loss:     0.8306, Validation Accuracy: 0.628000\n",
      "Epoch 22, CIFAR-10 Batch 1:      Loss:     0.8405, Validation Accuracy: 0.640000\n",
      "Epoch 22, CIFAR-10 Batch 2:      Loss:     0.7514, Validation Accuracy: 0.628200\n",
      "Epoch 22, CIFAR-10 Batch 3:      Loss:     0.6380, Validation Accuracy: 0.630800\n",
      "Epoch 22, CIFAR-10 Batch 4:      Loss:     0.7452, Validation Accuracy: 0.637600\n",
      "Epoch 22, CIFAR-10 Batch 5:      Loss:     0.7912, Validation Accuracy: 0.626600\n",
      "Epoch 23, CIFAR-10 Batch 1:      Loss:     0.8684, Validation Accuracy: 0.640400\n",
      "Epoch 23, CIFAR-10 Batch 2:      Loss:     0.7517, Validation Accuracy: 0.637800\n",
      "Epoch 23, CIFAR-10 Batch 3:      Loss:     0.6418, Validation Accuracy: 0.633800\n",
      "Epoch 23, CIFAR-10 Batch 4:      Loss:     0.7431, Validation Accuracy: 0.638600\n",
      "Epoch 23, CIFAR-10 Batch 5:      Loss:     0.7754, Validation Accuracy: 0.633800\n",
      "Epoch 24, CIFAR-10 Batch 1:      Loss:     0.8338, Validation Accuracy: 0.636200\n",
      "Epoch 24, CIFAR-10 Batch 2:      Loss:     0.7011, Validation Accuracy: 0.634000\n",
      "Epoch 24, CIFAR-10 Batch 3:      Loss:     0.6138, Validation Accuracy: 0.638600\n",
      "Epoch 24, CIFAR-10 Batch 4:      Loss:     0.7207, Validation Accuracy: 0.643600\n",
      "Epoch 24, CIFAR-10 Batch 5:      Loss:     0.7683, Validation Accuracy: 0.635800\n",
      "Epoch 25, CIFAR-10 Batch 1:      Loss:     0.8153, Validation Accuracy: 0.645200\n",
      "Epoch 25, CIFAR-10 Batch 2:      Loss:     0.7222, Validation Accuracy: 0.644200\n",
      "Epoch 25, CIFAR-10 Batch 3:      Loss:     0.5983, Validation Accuracy: 0.644000\n",
      "Epoch 25, CIFAR-10 Batch 4:      Loss:     0.6982, Validation Accuracy: 0.653400\n",
      "Epoch 25, CIFAR-10 Batch 5:      Loss:     0.7510, Validation Accuracy: 0.637400\n",
      "Epoch 26, CIFAR-10 Batch 1:      Loss:     0.7846, Validation Accuracy: 0.652400\n",
      "Epoch 26, CIFAR-10 Batch 2:      Loss:     0.6764, Validation Accuracy: 0.647800\n",
      "Epoch 26, CIFAR-10 Batch 3:      Loss:     0.6131, Validation Accuracy: 0.637000\n",
      "Epoch 26, CIFAR-10 Batch 4:      Loss:     0.6820, Validation Accuracy: 0.652200\n",
      "Epoch 26, CIFAR-10 Batch 5:      Loss:     0.7371, Validation Accuracy: 0.640800\n",
      "Epoch 27, CIFAR-10 Batch 1:      Loss:     0.7720, Validation Accuracy: 0.652800\n",
      "Epoch 27, CIFAR-10 Batch 2:      Loss:     0.6790, Validation Accuracy: 0.653400\n",
      "Epoch 27, CIFAR-10 Batch 3:      Loss:     0.5852, Validation Accuracy: 0.657200\n",
      "Epoch 27, CIFAR-10 Batch 4:      Loss:     0.6603, Validation Accuracy: 0.656800\n",
      "Epoch 27, CIFAR-10 Batch 5:      Loss:     0.7046, Validation Accuracy: 0.647800\n",
      "Epoch 28, CIFAR-10 Batch 1:      Loss:     0.7386, Validation Accuracy: 0.652200\n",
      "Epoch 28, CIFAR-10 Batch 2:      Loss:     0.6798, Validation Accuracy: 0.647400\n",
      "Epoch 28, CIFAR-10 Batch 3:      Loss:     0.5565, Validation Accuracy: 0.653600\n",
      "Epoch 28, CIFAR-10 Batch 4:      Loss:     0.6657, Validation Accuracy: 0.660600\n",
      "Epoch 28, CIFAR-10 Batch 5:      Loss:     0.6845, Validation Accuracy: 0.646600\n",
      "Epoch 29, CIFAR-10 Batch 1:      Loss:     0.7560, Validation Accuracy: 0.655400\n",
      "Epoch 29, CIFAR-10 Batch 2:      Loss:     0.6474, Validation Accuracy: 0.650200\n",
      "Epoch 29, CIFAR-10 Batch 3:      Loss:     0.5709, Validation Accuracy: 0.651200\n",
      "Epoch 29, CIFAR-10 Batch 4:      Loss:     0.6378, Validation Accuracy: 0.659200\n",
      "Epoch 29, CIFAR-10 Batch 5:      Loss:     0.6965, Validation Accuracy: 0.649600\n",
      "Epoch 30, CIFAR-10 Batch 1:      Loss:     0.7218, Validation Accuracy: 0.661400\n",
      "Epoch 30, CIFAR-10 Batch 2:      Loss:     0.6380, Validation Accuracy: 0.657400\n",
      "Epoch 30, CIFAR-10 Batch 3:      Loss:     0.5525, Validation Accuracy: 0.657000\n",
      "Epoch 30, CIFAR-10 Batch 4:      Loss:     0.6521, Validation Accuracy: 0.665200\n",
      "Epoch 30, CIFAR-10 Batch 5:      Loss:     0.7063, Validation Accuracy: 0.647400\n",
      "Epoch 31, CIFAR-10 Batch 1:      Loss:     0.7209, Validation Accuracy: 0.665200\n",
      "Epoch 31, CIFAR-10 Batch 2:      Loss:     0.6492, Validation Accuracy: 0.662600\n",
      "Epoch 31, CIFAR-10 Batch 3:      Loss:     0.5164, Validation Accuracy: 0.662000\n",
      "Epoch 31, CIFAR-10 Batch 4:      Loss:     0.6388, Validation Accuracy: 0.665200\n",
      "Epoch 31, CIFAR-10 Batch 5:      Loss:     0.6899, Validation Accuracy: 0.657600\n",
      "Epoch 32, CIFAR-10 Batch 1:      Loss:     0.7113, Validation Accuracy: 0.666000\n",
      "Epoch 32, CIFAR-10 Batch 2:      Loss:     0.6074, Validation Accuracy: 0.663600\n",
      "Epoch 32, CIFAR-10 Batch 3:      Loss:     0.5274, Validation Accuracy: 0.657800\n",
      "Epoch 32, CIFAR-10 Batch 4:      Loss:     0.6090, Validation Accuracy: 0.670000\n",
      "Epoch 32, CIFAR-10 Batch 5:      Loss:     0.6676, Validation Accuracy: 0.654200\n",
      "Epoch 33, CIFAR-10 Batch 1:      Loss:     0.6911, Validation Accuracy: 0.667800\n",
      "Epoch 33, CIFAR-10 Batch 2:      Loss:     0.6241, Validation Accuracy: 0.668200\n",
      "Epoch 33, CIFAR-10 Batch 3:      Loss:     0.5054, Validation Accuracy: 0.663200\n",
      "Epoch 33, CIFAR-10 Batch 4:      Loss:     0.6107, Validation Accuracy: 0.667200\n",
      "Epoch 33, CIFAR-10 Batch 5:      Loss:     0.6457, Validation Accuracy: 0.658600\n",
      "Epoch 34, CIFAR-10 Batch 1:      Loss:     0.6648, Validation Accuracy: 0.673800\n",
      "Epoch 34, CIFAR-10 Batch 2:      Loss:     0.6090, Validation Accuracy: 0.667600\n",
      "Epoch 34, CIFAR-10 Batch 3:      Loss:     0.5234, Validation Accuracy: 0.669600\n",
      "Epoch 34, CIFAR-10 Batch 4:      Loss:     0.5856, Validation Accuracy: 0.672400\n",
      "Epoch 34, CIFAR-10 Batch 5:      Loss:     0.6481, Validation Accuracy: 0.663400\n",
      "Epoch 35, CIFAR-10 Batch 1:      Loss:     0.6507, Validation Accuracy: 0.667400\n",
      "Epoch 35, CIFAR-10 Batch 2:      Loss:     0.5866, Validation Accuracy: 0.668000\n",
      "Epoch 35, CIFAR-10 Batch 3:      Loss:     0.5154, Validation Accuracy: 0.659600\n",
      "Epoch 35, CIFAR-10 Batch 4:      Loss:     0.5666, Validation Accuracy: 0.676400\n",
      "Epoch 35, CIFAR-10 Batch 5:      Loss:     0.6062, Validation Accuracy: 0.664000\n",
      "Epoch 36, CIFAR-10 Batch 1:      Loss:     0.6828, Validation Accuracy: 0.665600\n",
      "Epoch 36, CIFAR-10 Batch 2:      Loss:     0.5831, Validation Accuracy: 0.675600\n",
      "Epoch 36, CIFAR-10 Batch 3:      Loss:     0.4918, Validation Accuracy: 0.672200\n",
      "Epoch 36, CIFAR-10 Batch 4:      Loss:     0.5749, Validation Accuracy: 0.670000\n",
      "Epoch 36, CIFAR-10 Batch 5:      Loss:     0.6006, Validation Accuracy: 0.664200\n",
      "Epoch 37, CIFAR-10 Batch 1:      Loss:     0.6359, Validation Accuracy: 0.668400\n",
      "Epoch 37, CIFAR-10 Batch 2:      Loss:     0.5612, Validation Accuracy: 0.672600\n",
      "Epoch 37, CIFAR-10 Batch 3:      Loss:     0.5225, Validation Accuracy: 0.665600\n",
      "Epoch 37, CIFAR-10 Batch 4:      Loss:     0.5650, Validation Accuracy: 0.676600\n",
      "Epoch 37, CIFAR-10 Batch 5:      Loss:     0.6043, Validation Accuracy: 0.665400\n",
      "Epoch 38, CIFAR-10 Batch 1:      Loss:     0.6419, Validation Accuracy: 0.667400\n",
      "Epoch 38, CIFAR-10 Batch 2:      Loss:     0.5670, Validation Accuracy: 0.674200\n",
      "Epoch 38, CIFAR-10 Batch 3:      Loss:     0.4766, Validation Accuracy: 0.666800\n",
      "Epoch 38, CIFAR-10 Batch 4:      Loss:     0.5725, Validation Accuracy: 0.677600\n",
      "Epoch 38, CIFAR-10 Batch 5:      Loss:     0.5910, Validation Accuracy: 0.667000\n",
      "Epoch 39, CIFAR-10 Batch 1:      Loss:     0.6367, Validation Accuracy: 0.670600\n",
      "Epoch 39, CIFAR-10 Batch 2:      Loss:     0.5611, Validation Accuracy: 0.668000\n",
      "Epoch 39, CIFAR-10 Batch 3:      Loss:     0.4794, Validation Accuracy: 0.666000\n",
      "Epoch 39, CIFAR-10 Batch 4:      Loss:     0.5773, Validation Accuracy: 0.674600\n",
      "Epoch 39, CIFAR-10 Batch 5:      Loss:     0.5838, Validation Accuracy: 0.670200\n",
      "Epoch 40, CIFAR-10 Batch 1:      Loss:     0.6149, Validation Accuracy: 0.670400\n",
      "Epoch 40, CIFAR-10 Batch 2:      Loss:     0.5308, Validation Accuracy: 0.677600\n",
      "Epoch 40, CIFAR-10 Batch 3:      Loss:     0.4499, Validation Accuracy: 0.676800\n",
      "Epoch 40, CIFAR-10 Batch 4:      Loss:     0.5616, Validation Accuracy: 0.681200\n",
      "Epoch 40, CIFAR-10 Batch 5:      Loss:     0.5947, Validation Accuracy: 0.668000\n",
      "Epoch 41, CIFAR-10 Batch 1:      Loss:     0.6085, Validation Accuracy: 0.676000\n",
      "Epoch 41, CIFAR-10 Batch 2:      Loss:     0.5188, Validation Accuracy: 0.672400\n",
      "Epoch 41, CIFAR-10 Batch 3:      Loss:     0.5005, Validation Accuracy: 0.668200\n",
      "Epoch 41, CIFAR-10 Batch 4:      Loss:     0.5405, Validation Accuracy: 0.677800\n",
      "Epoch 41, CIFAR-10 Batch 5:      Loss:     0.5740, Validation Accuracy: 0.663400\n",
      "Epoch 42, CIFAR-10 Batch 1:      Loss:     0.5957, Validation Accuracy: 0.678400\n",
      "Epoch 42, CIFAR-10 Batch 2:      Loss:     0.5312, Validation Accuracy: 0.677000\n",
      "Epoch 42, CIFAR-10 Batch 3:      Loss:     0.4667, Validation Accuracy: 0.678000\n",
      "Epoch 42, CIFAR-10 Batch 4:      Loss:     0.5067, Validation Accuracy: 0.686600\n",
      "Epoch 42, CIFAR-10 Batch 5:      Loss:     0.5677, Validation Accuracy: 0.675000\n",
      "Epoch 43, CIFAR-10 Batch 1:      Loss:     0.6043, Validation Accuracy: 0.681800\n",
      "Epoch 43, CIFAR-10 Batch 2:      Loss:     0.5265, Validation Accuracy: 0.682800\n",
      "Epoch 43, CIFAR-10 Batch 3:      Loss:     0.4755, Validation Accuracy: 0.670200\n",
      "Epoch 43, CIFAR-10 Batch 4:      Loss:     0.5196, Validation Accuracy: 0.680400\n",
      "Epoch 43, CIFAR-10 Batch 5:      Loss:     0.5708, Validation Accuracy: 0.674000\n",
      "Epoch 44, CIFAR-10 Batch 1:      Loss:     0.5992, Validation Accuracy: 0.680600\n",
      "Epoch 44, CIFAR-10 Batch 2:      Loss:     0.5123, Validation Accuracy: 0.681000\n",
      "Epoch 44, CIFAR-10 Batch 3:      Loss:     0.4497, Validation Accuracy: 0.674200\n",
      "Epoch 44, CIFAR-10 Batch 4:      Loss:     0.5227, Validation Accuracy: 0.684800\n",
      "Epoch 44, CIFAR-10 Batch 5:      Loss:     0.5618, Validation Accuracy: 0.675400\n",
      "Epoch 45, CIFAR-10 Batch 1:      Loss:     0.5647, Validation Accuracy: 0.686800\n",
      "Epoch 45, CIFAR-10 Batch 2:      Loss:     0.5209, Validation Accuracy: 0.684000\n",
      "Epoch 45, CIFAR-10 Batch 3:      Loss:     0.4492, Validation Accuracy: 0.669800\n",
      "Epoch 45, CIFAR-10 Batch 4:      Loss:     0.4989, Validation Accuracy: 0.688200\n",
      "Epoch 45, CIFAR-10 Batch 5:      Loss:     0.5673, Validation Accuracy: 0.672400\n",
      "Epoch 46, CIFAR-10 Batch 1:      Loss:     0.5920, Validation Accuracy: 0.674200\n",
      "Epoch 46, CIFAR-10 Batch 2:      Loss:     0.5118, Validation Accuracy: 0.676800\n",
      "Epoch 46, CIFAR-10 Batch 3:      Loss:     0.4100, Validation Accuracy: 0.679200\n",
      "Epoch 46, CIFAR-10 Batch 4:      Loss:     0.5156, Validation Accuracy: 0.672800\n",
      "Epoch 46, CIFAR-10 Batch 5:      Loss:     0.5435, Validation Accuracy: 0.676800\n",
      "Epoch 47, CIFAR-10 Batch 1:      Loss:     0.5562, Validation Accuracy: 0.686600\n",
      "Epoch 47, CIFAR-10 Batch 2:      Loss:     0.5029, Validation Accuracy: 0.675200\n",
      "Epoch 47, CIFAR-10 Batch 3:      Loss:     0.3943, Validation Accuracy: 0.678400\n",
      "Epoch 47, CIFAR-10 Batch 4:      Loss:     0.4706, Validation Accuracy: 0.687800\n",
      "Epoch 47, CIFAR-10 Batch 5:      Loss:     0.5309, Validation Accuracy: 0.677200\n",
      "Epoch 48, CIFAR-10 Batch 1:      Loss:     0.5707, Validation Accuracy: 0.675800\n",
      "Epoch 48, CIFAR-10 Batch 2:      Loss:     0.4917, Validation Accuracy: 0.685000\n",
      "Epoch 48, CIFAR-10 Batch 3:      Loss:     0.4122, Validation Accuracy: 0.673000\n",
      "Epoch 48, CIFAR-10 Batch 4:      Loss:     0.4875, Validation Accuracy: 0.688000\n",
      "Epoch 48, CIFAR-10 Batch 5:      Loss:     0.5463, Validation Accuracy: 0.674600\n",
      "Epoch 49, CIFAR-10 Batch 1:      Loss:     0.5448, Validation Accuracy: 0.684000\n",
      "Epoch 49, CIFAR-10 Batch 2:      Loss:     0.5009, Validation Accuracy: 0.683600\n",
      "Epoch 49, CIFAR-10 Batch 3:      Loss:     0.4108, Validation Accuracy: 0.677800\n",
      "Epoch 49, CIFAR-10 Batch 4:      Loss:     0.4868, Validation Accuracy: 0.685600\n",
      "Epoch 49, CIFAR-10 Batch 5:      Loss:     0.5559, Validation Accuracy: 0.681600\n",
      "Epoch 50, CIFAR-10 Batch 1:      Loss:     0.5520, Validation Accuracy: 0.680600\n",
      "Epoch 50, CIFAR-10 Batch 2:      Loss:     0.4797, Validation Accuracy: 0.685000\n",
      "Epoch 50, CIFAR-10 Batch 3:      Loss:     0.4099, Validation Accuracy: 0.674400\n",
      "Epoch 50, CIFAR-10 Batch 4:      Loss:     0.4728, Validation Accuracy: 0.687200\n",
      "Epoch 50, CIFAR-10 Batch 5:      Loss:     0.5384, Validation Accuracy: 0.683200\n"
     ]
    }
   ],
   "source": [
    "\"\"\"\n",
    "DON'T MODIFY ANYTHING IN THIS CELL\n",
    "\"\"\"\n",
    "save_model_path = './image_classification'\n",
    "\n",
    "print('Training...')\n",
    "with tf.Session() as sess:\n",
    "    # Initializing the variables\n",
    "    sess.run(tf.global_variables_initializer())\n",
    "    \n",
    "    # Training cycle\n",
    "    for epoch in range(epochs):\n",
    "        # Loop over all batches\n",
    "        n_batches = 5\n",
    "        for batch_i in range(1, n_batches + 1):\n",
    "            for batch_features, batch_labels in helper.load_preprocess_training_batch(batch_i, batch_size):\n",
    "                train_neural_network(sess, optimizer, keep_probability, batch_features, batch_labels)\n",
    "            print('Epoch {:>2}, CIFAR-10 Batch {}:  '.format(epoch + 1, batch_i), end='')\n",
    "            print_stats(sess, batch_features, batch_labels, cost, accuracy)\n",
    "            \n",
    "    # Save Model\n",
    "    saver = tf.train.Saver()\n",
    "    save_path = saver.save(sess, save_model_path)"
   ]
  },
  {
   "cell_type": "markdown",
   "metadata": {
    "deletable": true,
    "editable": true
   },
   "source": [
    "# Checkpoint\n",
    "The model has been saved to disk.\n",
    "## Test Model\n",
    "Test your model against the test dataset.  This will be your final accuracy. You should have an accuracy greater than 50%. If you don't, keep tweaking the model architecture and parameters."
   ]
  },
  {
   "cell_type": "code",
   "execution_count": 1,
   "metadata": {
    "collapsed": false,
    "deletable": true,
    "editable": true
   },
   "outputs": [
    {
     "name": "stdout",
     "output_type": "stream",
     "text": [
      "Testing Accuracy: 0.6820262738853503\n",
      "\n"
     ]
    },
    {
     "data": {
      "image/png": "[encoded data removed]",
      "text/plain": [
       "<matplotlib.figure.Figure at 0x7fafde8cce48>"
      ]
     },
     "metadata": {
      "image/png": {
       "height": 319,
       "width": 355
      }
     },
     "output_type": "display_data"
    }
   ],
   "source": [
    "\"\"\"\n",
    "DON'T MODIFY ANYTHING IN THIS CELL\n",
    "\"\"\"\n",
    "%matplotlib inline\n",
    "%config InlineBackend.figure_format = 'retina'\n",
    "\n",
    "import tensorflow as tf\n",
    "import pickle\n",
    "import helper\n",
    "import random\n",
    "\n",
    "# Set batch size if not already set\n",
    "try:\n",
    "    if batch_size:\n",
    "        pass\n",
    "except NameError:\n",
    "    batch_size = 64\n",
    "\n",
    "save_model_path = './image_classification'\n",
    "n_samples = 4\n",
    "top_n_predictions = 3\n",
    "\n",
    "def test_model():\n",
    "    \"\"\"\n",
    "    Test the saved model against the test dataset\n",
    "    \"\"\"\n",
    "\n",
    "    test_features, test_labels = pickle.load(open('preprocess_training.p', mode='rb'))\n",
    "    loaded_graph = tf.Graph()\n",
    "\n",
    "    with tf.Session(graph=loaded_graph) as sess:\n",
    "        # Load model\n",
    "        loader = tf.train.import_meta_graph(save_model_path + '.meta')\n",
    "        loader.restore(sess, save_model_path)\n",
    "\n",
    "        # Get Tensors from loaded model\n",
    "        loaded_x = loaded_graph.get_tensor_by_name('x:0')\n",
    "        loaded_y = loaded_graph.get_tensor_by_name('y:0')\n",
    "        loaded_keep_prob = loaded_graph.get_tensor_by_name('keep_prob:0')\n",
    "        loaded_logits = loaded_graph.get_tensor_by_name('logits:0')\n",
    "        loaded_acc = loaded_graph.get_tensor_by_name('accuracy:0')\n",
    "        \n",
    "        # Get accuracy in batches for memory limitations\n",
    "        test_batch_acc_total = 0\n",
    "        test_batch_count = 0\n",
    "        \n",
    "        for train_feature_batch, train_label_batch in helper.batch_features_labels(test_features, test_labels, batch_size):\n",
    "            test_batch_acc_total += sess.run(\n",
    "                loaded_acc,\n",
    "                feed_dict={loaded_x: train_feature_batch, loaded_y: train_label_batch, loaded_keep_prob: 1.0})\n",
    "            test_batch_count += 1\n",
    "\n",
    "        print('Testing Accuracy: {}\\n'.format(test_batch_acc_total/test_batch_count))\n",
    "\n",
    "        # Print Random Samples\n",
    "        random_test_features, random_test_labels = tuple(zip(*random.sample(list(zip(test_features, test_labels)), n_samples)))\n",
    "        random_test_predictions = sess.run(\n",
    "            tf.nn.top_k(tf.nn.softmax(loaded_logits), top_n_predictions),\n",
    "            feed_dict={loaded_x: random_test_features, loaded_y: random_test_labels, loaded_keep_prob: 1.0})\n",
    "        helper.display_image_predictions(random_test_features, random_test_labels, random_test_predictions)\n",
    "\n",
    "\n",
    "test_model()"
   ]
  },
  {
   "cell_type": "markdown",
   "metadata": {
    "deletable": true,
    "editable": true
   },
   "source": [
    "## Why 50-70% Accuracy?\n",
    "You might be wondering why you can't get an accuracy any higher. First things first, 50% isn't bad for a simple CNN.  Pure guessing would get you 10% accuracy. However, you might notice people are getting scores [well above 70%](http://rodrigob.github.io/are_we_there_yet/build/classification_datasets_results.html#43494641522d3130).  That's because we haven't taught you all there is to know about neural networks. We still need to cover a few more techniques.\n",
    "## Submitting This Project\n",
    "When submitting this project, make sure to run all the cells before saving the notebook.  Save the notebook file as \"dlnd_image_classification.ipynb\" and save it as a HTML file under \"File\" -> \"Download as\".  Include the \"helper.py\" and \"problem_unittests.py\" files in your submission."
   ]
  }
 ],
 "metadata": {
  "kernelspec": {
   "display_name": "Python 3",
   "language": "python",
   "name": "python3"
  },
  "language_info": {
   "codemirror_mode": {
    "name": "ipython",
    "version": 3
   },
   "file_extension": ".py",
   "mimetype": "text/x-python",
   "name": "python",
   "nbconvert_exporter": "python",
   "pygments_lexer": "ipython3",
   "version": "3.5.2"
  },
  "widgets": {
   "state": {},
   "version": "1.1.2"
  }
 },
 "nbformat": 4,
 "nbformat_minor": 0
}
